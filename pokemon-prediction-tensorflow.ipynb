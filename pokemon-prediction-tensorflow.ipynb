{
 "cells": [
  {
   "cell_type": "code",
   "execution_count": 1,
   "id": "ca4c6231",
   "metadata": {
    "_cell_guid": "b1076dfc-b9ad-4769-8c92-a6c4dae69d19",
    "_uuid": "8f2839f25d086af736a60e9eeb907d3b93b6e0e5",
    "execution": {
     "iopub.execute_input": "2022-04-27T03:09:52.044102Z",
     "iopub.status.busy": "2022-04-27T03:09:52.043648Z",
     "iopub.status.idle": "2022-04-27T03:09:52.075730Z",
     "shell.execute_reply": "2022-04-27T03:09:52.074484Z"
    },
    "papermill": {
     "duration": 0.077741,
     "end_time": "2022-04-27T03:09:52.078963",
     "exception": false,
     "start_time": "2022-04-27T03:09:52.001222",
     "status": "completed"
    },
    "tags": []
   },
   "outputs": [
    {
     "name": "stdout",
     "output_type": "stream",
     "text": [
      "/kaggle/input/pokemon/report_Pokemon.pdf\n",
      "/kaggle/input/pokemon/pokemon_alopez247.csv\n"
     ]
    }
   ],
   "source": [
    "# This Python 3 environment comes with many helpful analytics libraries installed\n",
    "# It is defined by the kaggle/python Docker image: https://github.com/kaggle/docker-python\n",
    "# For example, here's several helpful packages to load\n",
    "\n",
    "import numpy as np # linear algebra\n",
    "import pandas as pd # data processing, CSV file I/O (e.g. pd.read_csv)\n",
    "\n",
    "# Input data files are available in the read-only \"../input/\" directory\n",
    "# For example, running this (by clicking run or pressing Shift+Enter) will list all files under the input directory\n",
    "\n",
    "import os\n",
    "for dirname, _, filenames in os.walk('/kaggle/input'):\n",
    "    for filename in filenames:\n",
    "        print(os.path.join(dirname, filename))\n",
    "\n",
    "# You can write up to 20GB to the current directory (/kaggle/working/) that gets preserved as output when you create a version using \"Save & Run All\" \n",
    "# You can also write temporary files to /kaggle/temp/, but they won't be saved outside of the current session"
   ]
  },
  {
   "cell_type": "code",
   "execution_count": 2,
   "id": "732dae65",
   "metadata": {
    "execution": {
     "iopub.execute_input": "2022-04-27T03:09:52.177103Z",
     "iopub.status.busy": "2022-04-27T03:09:52.176562Z",
     "iopub.status.idle": "2022-04-27T03:10:29.008387Z",
     "shell.execute_reply": "2022-04-27T03:10:29.007460Z"
    },
    "papermill": {
     "duration": 36.886645,
     "end_time": "2022-04-27T03:10:29.010868",
     "exception": false,
     "start_time": "2022-04-27T03:09:52.124223",
     "status": "completed"
    },
    "tags": []
   },
   "outputs": [
    {
     "name": "stdout",
     "output_type": "stream",
     "text": [
      "Requirement already satisfied: tensorflow in /opt/conda/lib/python3.7/site-packages (2.6.3)\r\n",
      "Collecting six~=1.15.0\r\n",
      "  Downloading six-1.15.0-py2.py3-none-any.whl (10 kB)\r\n",
      "Requirement already satisfied: protobuf>=3.9.2 in /opt/conda/lib/python3.7/site-packages (from tensorflow) (3.19.4)\r\n",
      "Requirement already satisfied: flatbuffers~=1.12.0 in /opt/conda/lib/python3.7/site-packages (from tensorflow) (1.12)\r\n",
      "Requirement already satisfied: keras<2.7,>=2.6.0 in /opt/conda/lib/python3.7/site-packages (from tensorflow) (2.6.0)\r\n",
      "Collecting wrapt~=1.12.1\r\n",
      "  Downloading wrapt-1.12.1.tar.gz (27 kB)\r\n",
      "  Preparing metadata (setup.py) ... \u001b[?25l-\b \bdone\r\n",
      "\u001b[?25hCollecting typing-extensions<3.11,>=3.7\r\n",
      "  Downloading typing_extensions-3.10.0.2-py3-none-any.whl (26 kB)\r\n",
      "Collecting numpy~=1.19.2\r\n",
      "  Downloading numpy-1.19.5-cp37-cp37m-manylinux2010_x86_64.whl (14.8 MB)\r\n",
      "\u001b[2K     \u001b[90m━━━━━━━━━━━━━━━━━━━━━━━━━━━━━━━━━━━━━━━━\u001b[0m \u001b[32m14.8/14.8 MB\u001b[0m \u001b[31m11.3 MB/s\u001b[0m eta \u001b[36m0:00:00\u001b[0m\r\n",
      "\u001b[?25hRequirement already satisfied: gast==0.4.0 in /opt/conda/lib/python3.7/site-packages (from tensorflow) (0.4.0)\r\n",
      "Requirement already satisfied: grpcio<2.0,>=1.37.0 in /opt/conda/lib/python3.7/site-packages (from tensorflow) (1.43.0)\r\n",
      "Requirement already satisfied: tensorboard<2.7,>=2.6.0 in /opt/conda/lib/python3.7/site-packages (from tensorflow) (2.6.0)\r\n",
      "Requirement already satisfied: tensorflow-estimator<2.7,>=2.6.0 in /opt/conda/lib/python3.7/site-packages (from tensorflow) (2.6.0)\r\n",
      "Requirement already satisfied: google-pasta~=0.2 in /opt/conda/lib/python3.7/site-packages (from tensorflow) (0.2.0)\r\n",
      "Requirement already satisfied: wheel~=0.35 in /opt/conda/lib/python3.7/site-packages (from tensorflow) (0.37.1)\r\n",
      "Requirement already satisfied: keras-preprocessing~=1.1.2 in /opt/conda/lib/python3.7/site-packages (from tensorflow) (1.1.2)\r\n",
      "Collecting absl-py~=0.10\r\n",
      "  Downloading absl_py-0.15.0-py3-none-any.whl (132 kB)\r\n",
      "\u001b[2K     \u001b[90m━━━━━━━━━━━━━━━━━━━━━━━━━━━━━━━━━━━━━━━\u001b[0m \u001b[32m132.0/132.0 KB\u001b[0m \u001b[31m7.1 MB/s\u001b[0m eta \u001b[36m0:00:00\u001b[0m\r\n",
      "\u001b[?25hRequirement already satisfied: astunparse~=1.6.3 in /opt/conda/lib/python3.7/site-packages (from tensorflow) (1.6.3)\r\n",
      "Requirement already satisfied: clang~=5.0 in /opt/conda/lib/python3.7/site-packages (from tensorflow) (5.0)\r\n",
      "Requirement already satisfied: termcolor~=1.1.0 in /opt/conda/lib/python3.7/site-packages (from tensorflow) (1.1.0)\r\n",
      "Requirement already satisfied: opt-einsum~=3.3.0 in /opt/conda/lib/python3.7/site-packages (from tensorflow) (3.3.0)\r\n",
      "Requirement already satisfied: h5py~=3.1.0 in /opt/conda/lib/python3.7/site-packages (from tensorflow) (3.1.0)\r\n",
      "Requirement already satisfied: cached-property in /opt/conda/lib/python3.7/site-packages (from h5py~=3.1.0->tensorflow) (1.5.2)\r\n",
      "Requirement already satisfied: google-auth<2,>=1.6.3 in /opt/conda/lib/python3.7/site-packages (from tensorboard<2.7,>=2.6.0->tensorflow) (1.35.0)\r\n",
      "Requirement already satisfied: google-auth-oauthlib<0.5,>=0.4.1 in /opt/conda/lib/python3.7/site-packages (from tensorboard<2.7,>=2.6.0->tensorflow) (0.4.6)\r\n",
      "Requirement already satisfied: setuptools>=41.0.0 in /opt/conda/lib/python3.7/site-packages (from tensorboard<2.7,>=2.6.0->tensorflow) (59.8.0)\r\n",
      "Requirement already satisfied: tensorboard-plugin-wit>=1.6.0 in /opt/conda/lib/python3.7/site-packages (from tensorboard<2.7,>=2.6.0->tensorflow) (1.8.1)\r\n",
      "Requirement already satisfied: werkzeug>=0.11.15 in /opt/conda/lib/python3.7/site-packages (from tensorboard<2.7,>=2.6.0->tensorflow) (2.0.3)\r\n",
      "Requirement already satisfied: markdown>=2.6.8 in /opt/conda/lib/python3.7/site-packages (from tensorboard<2.7,>=2.6.0->tensorflow) (3.3.6)\r\n",
      "Requirement already satisfied: tensorboard-data-server<0.7.0,>=0.6.0 in /opt/conda/lib/python3.7/site-packages (from tensorboard<2.7,>=2.6.0->tensorflow) (0.6.1)\r\n",
      "Requirement already satisfied: requests<3,>=2.21.0 in /opt/conda/lib/python3.7/site-packages (from tensorboard<2.7,>=2.6.0->tensorflow) (2.27.1)\r\n",
      "Requirement already satisfied: rsa<5,>=3.1.4 in /opt/conda/lib/python3.7/site-packages (from google-auth<2,>=1.6.3->tensorboard<2.7,>=2.6.0->tensorflow) (4.8)\r\n",
      "Requirement already satisfied: cachetools<5.0,>=2.0.0 in /opt/conda/lib/python3.7/site-packages (from google-auth<2,>=1.6.3->tensorboard<2.7,>=2.6.0->tensorflow) (4.2.4)\r\n",
      "Requirement already satisfied: pyasn1-modules>=0.2.1 in /opt/conda/lib/python3.7/site-packages (from google-auth<2,>=1.6.3->tensorboard<2.7,>=2.6.0->tensorflow) (0.2.7)\r\n",
      "Requirement already satisfied: requests-oauthlib>=0.7.0 in /opt/conda/lib/python3.7/site-packages (from google-auth-oauthlib<0.5,>=0.4.1->tensorboard<2.7,>=2.6.0->tensorflow) (1.3.1)\r\n",
      "Requirement already satisfied: importlib-metadata>=4.4 in /opt/conda/lib/python3.7/site-packages (from markdown>=2.6.8->tensorboard<2.7,>=2.6.0->tensorflow) (4.11.3)\r\n",
      "Requirement already satisfied: urllib3<1.27,>=1.21.1 in /opt/conda/lib/python3.7/site-packages (from requests<3,>=2.21.0->tensorboard<2.7,>=2.6.0->tensorflow) (1.26.8)\r\n",
      "Requirement already satisfied: certifi>=2017.4.17 in /opt/conda/lib/python3.7/site-packages (from requests<3,>=2.21.0->tensorboard<2.7,>=2.6.0->tensorflow) (2021.10.8)\r\n",
      "Requirement already satisfied: charset-normalizer~=2.0.0 in /opt/conda/lib/python3.7/site-packages (from requests<3,>=2.21.0->tensorboard<2.7,>=2.6.0->tensorflow) (2.0.12)\r\n",
      "Requirement already satisfied: idna<4,>=2.5 in /opt/conda/lib/python3.7/site-packages (from requests<3,>=2.21.0->tensorboard<2.7,>=2.6.0->tensorflow) (3.3)\r\n",
      "Requirement already satisfied: zipp>=0.5 in /opt/conda/lib/python3.7/site-packages (from importlib-metadata>=4.4->markdown>=2.6.8->tensorboard<2.7,>=2.6.0->tensorflow) (3.7.0)\r\n",
      "Requirement already satisfied: pyasn1<0.5.0,>=0.4.6 in /opt/conda/lib/python3.7/site-packages (from pyasn1-modules>=0.2.1->google-auth<2,>=1.6.3->tensorboard<2.7,>=2.6.0->tensorflow) (0.4.8)\r\n",
      "Requirement already satisfied: oauthlib>=3.0.0 in /opt/conda/lib/python3.7/site-packages (from requests-oauthlib>=0.7.0->google-auth-oauthlib<0.5,>=0.4.1->tensorboard<2.7,>=2.6.0->tensorflow) (3.2.0)\r\n",
      "Building wheels for collected packages: wrapt\r\n",
      "  Building wheel for wrapt (setup.py) ... \u001b[?25l-\b \b\\\b \b|\b \bdone\r\n",
      "\u001b[?25h  Created wheel for wrapt: filename=wrapt-1.12.1-cp37-cp37m-linux_x86_64.whl size=77058 sha256=41092aab95f29b814b9f1b78b2073678a0fbf36cb308430833ec40d2e84766a4\r\n",
      "  Stored in directory: /root/.cache/pip/wheels/62/76/4c/aa25851149f3f6d9785f6c869387ad82b3fd37582fa8147ac6\r\n",
      "Successfully built wrapt\r\n",
      "Installing collected packages: wrapt, typing-extensions, six, numpy, absl-py\r\n",
      "  Attempting uninstall: wrapt\r\n",
      "    Found existing installation: wrapt 1.14.0\r\n",
      "    Uninstalling wrapt-1.14.0:\r\n",
      "      Successfully uninstalled wrapt-1.14.0\r\n",
      "  Attempting uninstall: typing-extensions\r\n",
      "    Found existing installation: typing_extensions 4.1.1\r\n",
      "    Uninstalling typing_extensions-4.1.1:\r\n",
      "      Successfully uninstalled typing_extensions-4.1.1\r\n",
      "  Attempting uninstall: six\r\n",
      "    Found existing installation: six 1.16.0\r\n",
      "    Uninstalling six-1.16.0:\r\n",
      "      Successfully uninstalled six-1.16.0\r\n",
      "  Attempting uninstall: numpy\r\n",
      "    Found existing installation: numpy 1.21.5\r\n",
      "    Uninstalling numpy-1.21.5:\r\n",
      "      Successfully uninstalled numpy-1.21.5\r\n",
      "  Attempting uninstall: absl-py\r\n",
      "    Found existing installation: absl-py 1.0.0\r\n",
      "    Uninstalling absl-py-1.0.0:\r\n",
      "      Successfully uninstalled absl-py-1.0.0\r\n",
      "\u001b[31mERROR: pip's dependency resolver does not currently take into account all the packages that are installed. This behaviour is the source of the following dependency conflicts.\r\n",
      "tensorflow-io 0.21.0 requires tensorflow-io-gcs-filesystem==0.21.0, which is not installed.\r\n",
      "beatrix-jupyterlab 3.1.7 requires google-cloud-bigquery-storage, which is not installed.\r\n",
      "tfx-bsl 1.7.0 requires pyarrow<6,>=1, but you have pyarrow 7.0.0 which is incompatible.\r\n",
      "tfx-bsl 1.7.0 requires tensorflow!=2.0.*,!=2.1.*,!=2.2.*,!=2.3.*,!=2.4.*,!=2.5.*,!=2.6.*,!=2.7.*,<3,>=1.15.5, but you have tensorflow 2.6.3 which is incompatible.\r\n",
      "tensorflow-transform 1.7.0 requires pyarrow<6,>=1, but you have pyarrow 7.0.0 which is incompatible.\r\n",
      "tensorflow-transform 1.7.0 requires tensorflow!=2.0.*,!=2.1.*,!=2.2.*,!=2.3.*,!=2.4.*,!=2.5.*,!=2.6.*,!=2.7.*,<2.9,>=1.15.5, but you have tensorflow 2.6.3 which is incompatible.\r\n",
      "tensorflow-serving-api 2.8.0 requires tensorflow<3,>=2.8.0, but you have tensorflow 2.6.3 which is incompatible.\r\n",
      "rich 12.2.0 requires typing-extensions<5.0,>=4.0.0; python_version < \"3.9\", but you have typing-extensions 3.10.0.2 which is incompatible.\r\n",
      "pytorch-lightning 1.6.0 requires typing-extensions>=4.0.0, but you have typing-extensions 3.10.0.2 which is incompatible.\r\n",
      "pdpbox 0.2.1 requires matplotlib==3.1.1, but you have matplotlib 3.5.1 which is incompatible.\r\n",
      "imageio 2.16.1 requires numpy>=1.20.0, but you have numpy 1.19.5 which is incompatible.\r\n",
      "grpcio-status 1.44.0 requires grpcio>=1.44.0, but you have grpcio 1.43.0 which is incompatible.\r\n",
      "google-cloud-aiplatform 0.6.0a1 requires google-cloud-storage<2.0.0dev,>=1.26.0, but you have google-cloud-storage 2.1.0 which is incompatible.\r\n",
      "gcsfs 2022.2.0 requires fsspec==2022.02.0, but you have fsspec 2022.3.0 which is incompatible.\r\n",
      "flake8 4.0.1 requires importlib-metadata<4.3; python_version < \"3.8\", but you have importlib-metadata 4.11.3 which is incompatible.\r\n",
      "featuretools 1.8.0 requires numpy>=1.21.0, but you have numpy 1.19.5 which is incompatible.\r\n",
      "cloud-tpu-client 0.10 requires google-api-python-client==1.8.0, but you have google-api-python-client 1.12.11 which is incompatible.\r\n",
      "apache-beam 2.37.0 requires dill<0.3.2,>=0.3.1.1, but you have dill 0.3.4 which is incompatible.\r\n",
      "apache-beam 2.37.0 requires httplib2<0.20.0,>=0.8, but you have httplib2 0.20.4 which is incompatible.\r\n",
      "apache-beam 2.37.0 requires pyarrow<7.0.0,>=0.15.1, but you have pyarrow 7.0.0 which is incompatible.\r\n",
      "aioitertools 0.10.0 requires typing_extensions>=4.0; python_version < \"3.10\", but you have typing-extensions 3.10.0.2 which is incompatible.\r\n",
      "aiobotocore 2.2.0 requires botocore<1.24.22,>=1.24.21, but you have botocore 1.24.38 which is incompatible.\u001b[0m\u001b[31m\r\n",
      "\u001b[0mSuccessfully installed absl-py-0.15.0 numpy-1.19.5 six-1.15.0 typing-extensions-3.10.0.2 wrapt-1.12.1\r\n",
      "\u001b[33mWARNING: Running pip as the 'root' user can result in broken permissions and conflicting behaviour with the system package manager. It is recommended to use a virtual environment instead: https://pip.pypa.io/warnings/venv\u001b[0m\u001b[33m\r\n",
      "\u001b[0m"
     ]
    }
   ],
   "source": [
    "!pip install tensorflow"
   ]
  },
  {
   "cell_type": "code",
   "execution_count": 3,
   "id": "a831ae57",
   "metadata": {
    "execution": {
     "iopub.execute_input": "2022-04-27T03:10:29.126218Z",
     "iopub.status.busy": "2022-04-27T03:10:29.125930Z",
     "iopub.status.idle": "2022-04-27T03:10:33.876386Z",
     "shell.execute_reply": "2022-04-27T03:10:33.875656Z"
    },
    "papermill": {
     "duration": 4.813049,
     "end_time": "2022-04-27T03:10:33.878910",
     "exception": false,
     "start_time": "2022-04-27T03:10:29.065861",
     "status": "completed"
    },
    "tags": []
   },
   "outputs": [],
   "source": [
    "import tensorflow as tf\n",
    "from tensorflow import keras\n",
    "import numpy as np\n",
    "import pandas as pd\n",
    "import matplotlib.pyplot as plt\n",
    "from sklearn import preprocessing"
   ]
  },
  {
   "cell_type": "markdown",
   "id": "a1a4d128",
   "metadata": {
    "papermill": {
     "duration": 0.05454,
     "end_time": "2022-04-27T03:10:33.989642",
     "exception": false,
     "start_time": "2022-04-27T03:10:33.935102",
     "status": "completed"
    },
    "tags": []
   },
   "source": [
    "###Dataset used: https://www.kaggle.com/datasets/alopez247/pokemon"
   ]
  },
  {
   "cell_type": "code",
   "execution_count": 4,
   "id": "b5701d88",
   "metadata": {
    "execution": {
     "iopub.execute_input": "2022-04-27T03:10:34.101590Z",
     "iopub.status.busy": "2022-04-27T03:10:34.101009Z",
     "iopub.status.idle": "2022-04-27T03:10:34.130870Z",
     "shell.execute_reply": "2022-04-27T03:10:34.129973Z"
    },
    "papermill": {
     "duration": 0.088364,
     "end_time": "2022-04-27T03:10:34.133202",
     "exception": false,
     "start_time": "2022-04-27T03:10:34.044838",
     "status": "completed"
    },
    "tags": []
   },
   "outputs": [
    {
     "data": {
      "text/plain": [
       "Index(['Number', 'Name', 'Type_1', 'Type_2', 'Total', 'HP', 'Attack',\n",
       "       'Defense', 'Sp_Atk', 'Sp_Def', 'Speed', 'Generation', 'isLegendary',\n",
       "       'Color', 'hasGender', 'Pr_Male', 'Egg_Group_1', 'Egg_Group_2',\n",
       "       'hasMegaEvolution', 'Height_m', 'Weight_kg', 'Catch_Rate',\n",
       "       'Body_Style'],\n",
       "      dtype='object')"
      ]
     },
     "execution_count": 4,
     "metadata": {},
     "output_type": "execute_result"
    }
   ],
   "source": [
    "df = pd.read_csv(\"../input/pokemon/pokemon_alopez247.csv\")\n",
    "df.columns"
   ]
  },
  {
   "cell_type": "markdown",
   "id": "ab772849",
   "metadata": {
    "papermill": {
     "duration": 0.054918,
     "end_time": "2022-04-27T03:10:34.243516",
     "exception": false,
     "start_time": "2022-04-27T03:10:34.188598",
     "status": "completed"
    },
    "tags": []
   },
   "source": [
    "###Selecting only the required data here"
   ]
  },
  {
   "cell_type": "code",
   "execution_count": 5,
   "id": "05627a9b",
   "metadata": {
    "execution": {
     "iopub.execute_input": "2022-04-27T03:10:34.354783Z",
     "iopub.status.busy": "2022-04-27T03:10:34.354519Z",
     "iopub.status.idle": "2022-04-27T03:10:34.368009Z",
     "shell.execute_reply": "2022-04-27T03:10:34.367425Z"
    },
    "papermill": {
     "duration": 0.07128,
     "end_time": "2022-04-27T03:10:34.369961",
     "exception": false,
     "start_time": "2022-04-27T03:10:34.298681",
     "status": "completed"
    },
    "tags": []
   },
   "outputs": [],
   "source": [
    "df = df[['isLegendary','Generation', 'Type_1', 'Type_2', 'HP', 'Attack', 'Defense', 'Sp_Atk', 'Sp_Def', 'Speed','Color','Egg_Group_1','Height_m','Weight_kg','Body_Style']]"
   ]
  },
  {
   "cell_type": "code",
   "execution_count": 6,
   "id": "42783e94",
   "metadata": {
    "execution": {
     "iopub.execute_input": "2022-04-27T03:10:34.481861Z",
     "iopub.status.busy": "2022-04-27T03:10:34.481363Z",
     "iopub.status.idle": "2022-04-27T03:10:34.490055Z",
     "shell.execute_reply": "2022-04-27T03:10:34.489494Z"
    },
    "papermill": {
     "duration": 0.066689,
     "end_time": "2022-04-27T03:10:34.491858",
     "exception": false,
     "start_time": "2022-04-27T03:10:34.425169",
     "status": "completed"
    },
    "tags": []
   },
   "outputs": [
    {
     "data": {
      "text/plain": [
       "0      False\n",
       "1      False\n",
       "2      False\n",
       "3      False\n",
       "4      False\n",
       "       ...  \n",
       "716     True\n",
       "717     True\n",
       "718     True\n",
       "719     True\n",
       "720     True\n",
       "Name: isLegendary, Length: 721, dtype: bool"
      ]
     },
     "execution_count": 6,
     "metadata": {},
     "output_type": "execute_result"
    }
   ],
   "source": [
    "df['isLegendary']"
   ]
  },
  {
   "cell_type": "markdown",
   "id": "40a06eaf",
   "metadata": {
    "papermill": {
     "duration": 0.055162,
     "end_time": "2022-04-27T03:10:34.602980",
     "exception": false,
     "start_time": "2022-04-27T03:10:34.547818",
     "status": "completed"
    },
    "tags": []
   },
   "source": [
    "###isLegendary column contains True/False data so converting to numerical data as 0's and 1's"
   ]
  },
  {
   "cell_type": "code",
   "execution_count": 7,
   "id": "2df1e160",
   "metadata": {
    "execution": {
     "iopub.execute_input": "2022-04-27T03:10:34.719202Z",
     "iopub.status.busy": "2022-04-27T03:10:34.718701Z",
     "iopub.status.idle": "2022-04-27T03:10:34.726204Z",
     "shell.execute_reply": "2022-04-27T03:10:34.725597Z"
    },
    "papermill": {
     "duration": 0.068938,
     "end_time": "2022-04-27T03:10:34.728190",
     "exception": false,
     "start_time": "2022-04-27T03:10:34.659252",
     "status": "completed"
    },
    "tags": []
   },
   "outputs": [
    {
     "data": {
      "text/plain": [
       "0      0\n",
       "1      0\n",
       "2      0\n",
       "3      0\n",
       "4      0\n",
       "      ..\n",
       "716    1\n",
       "717    1\n",
       "718    1\n",
       "719    1\n",
       "720    1\n",
       "Name: isLegendary, Length: 721, dtype: int64"
      ]
     },
     "execution_count": 7,
     "metadata": {},
     "output_type": "execute_result"
    }
   ],
   "source": [
    "df['isLegendary'] = df['isLegendary'].astype(int)\n",
    "df['isLegendary']"
   ]
  },
  {
   "cell_type": "markdown",
   "id": "6bcd7635",
   "metadata": {
    "papermill": {
     "duration": 0.055788,
     "end_time": "2022-04-27T03:10:34.840690",
     "exception": false,
     "start_time": "2022-04-27T03:10:34.784902",
     "status": "completed"
    },
    "tags": []
   },
   "source": [
    "###Looking at type1 cloumn:"
   ]
  },
  {
   "cell_type": "code",
   "execution_count": 8,
   "id": "f49555bb",
   "metadata": {
    "execution": {
     "iopub.execute_input": "2022-04-27T03:10:34.956825Z",
     "iopub.status.busy": "2022-04-27T03:10:34.956308Z",
     "iopub.status.idle": "2022-04-27T03:10:34.962645Z",
     "shell.execute_reply": "2022-04-27T03:10:34.962106Z"
    },
    "papermill": {
     "duration": 0.06639,
     "end_time": "2022-04-27T03:10:34.964424",
     "exception": false,
     "start_time": "2022-04-27T03:10:34.898034",
     "status": "completed"
    },
    "tags": []
   },
   "outputs": [
    {
     "data": {
      "text/plain": [
       "0        Grass\n",
       "1        Grass\n",
       "2        Grass\n",
       "3         Fire\n",
       "4         Fire\n",
       "        ...   \n",
       "716       Dark\n",
       "717     Dragon\n",
       "718       Rock\n",
       "719    Psychic\n",
       "720       Fire\n",
       "Name: Type_1, Length: 721, dtype: object"
      ]
     },
     "execution_count": 8,
     "metadata": {},
     "output_type": "execute_result"
    }
   ],
   "source": [
    "df['Type_1']"
   ]
  },
  {
   "cell_type": "markdown",
   "id": "64995ce6",
   "metadata": {
    "papermill": {
     "duration": 0.057835,
     "end_time": "2022-04-27T03:10:35.080877",
     "exception": false,
     "start_time": "2022-04-27T03:10:35.023042",
     "status": "completed"
    },
    "tags": []
   },
   "source": [
    "###The values are grass, fire etc so ceating dummy variables here"
   ]
  },
  {
   "cell_type": "code",
   "execution_count": 9,
   "id": "722c1482",
   "metadata": {
    "execution": {
     "iopub.execute_input": "2022-04-27T03:10:35.195742Z",
     "iopub.status.busy": "2022-04-27T03:10:35.195256Z",
     "iopub.status.idle": "2022-04-27T03:10:35.200102Z",
     "shell.execute_reply": "2022-04-27T03:10:35.199514Z"
    },
    "papermill": {
     "duration": 0.06409,
     "end_time": "2022-04-27T03:10:35.201946",
     "exception": false,
     "start_time": "2022-04-27T03:10:35.137856",
     "status": "completed"
    },
    "tags": []
   },
   "outputs": [],
   "source": [
    "def dummy_creation(df, dummy_cat):\n",
    "    for i in dummy_cat:\n",
    "        df_dummy = pd.get_dummies(df[i])\n",
    "        df = pd.concat([df, df_dummy], axis = 1)\n",
    "        df = df.drop(i, axis = 1)\n",
    "    return(df)"
   ]
  },
  {
   "cell_type": "markdown",
   "id": "27365722",
   "metadata": {
    "papermill": {
     "duration": 0.055827,
     "end_time": "2022-04-27T03:10:35.313852",
     "exception": false,
     "start_time": "2022-04-27T03:10:35.258025",
     "status": "completed"
    },
    "tags": []
   },
   "source": [
    "###Using the above function to create dummies for multiple columns"
   ]
  },
  {
   "cell_type": "code",
   "execution_count": 10,
   "id": "a62f1561",
   "metadata": {
    "execution": {
     "iopub.execute_input": "2022-04-27T03:10:35.427658Z",
     "iopub.status.busy": "2022-04-27T03:10:35.427144Z",
     "iopub.status.idle": "2022-04-27T03:10:35.465723Z",
     "shell.execute_reply": "2022-04-27T03:10:35.465041Z"
    },
    "papermill": {
     "duration": 0.097791,
     "end_time": "2022-04-27T03:10:35.467529",
     "exception": false,
     "start_time": "2022-04-27T03:10:35.369738",
     "status": "completed"
    },
    "tags": []
   },
   "outputs": [
    {
     "data": {
      "text/plain": [
       "<bound method NDFrame.head of      isLegendary  Generation   HP  Attack  Defense  Sp_Atk  Sp_Def  Speed  \\\n",
       "0              0           1   45      49       49      65      65     45   \n",
       "1              0           1   60      62       63      80      80     60   \n",
       "2              0           1   80      82       83     100     100     80   \n",
       "3              0           1   39      52       43      60      50     65   \n",
       "4              0           1   58      64       58      80      65     80   \n",
       "..           ...         ...  ...     ...      ...     ...     ...    ...   \n",
       "716            1           6  126     131       95     131      98     99   \n",
       "717            1           6  108     100      121      81      95     95   \n",
       "718            1           6   50     100      150     100     150     50   \n",
       "719            1           6   80     110       60     150     130     70   \n",
       "720            1           6   80     110      120     130      90     70   \n",
       "\n",
       "     Height_m  Weight_kg  ...  Ghost  Grass  Ground  Ice  Normal  Poison  \\\n",
       "0        0.71        6.9  ...      0      0       0    0       0       1   \n",
       "1        0.99       13.0  ...      0      0       0    0       0       1   \n",
       "2        2.01      100.0  ...      0      0       0    0       0       1   \n",
       "3        0.61        8.5  ...      0      0       0    0       0       0   \n",
       "4        1.09       19.0  ...      0      0       0    0       0       0   \n",
       "..        ...        ...  ...    ...    ...     ...  ...     ...     ...   \n",
       "716      5.79      203.0  ...      0      0       0    0       0       0   \n",
       "717      5.00      305.0  ...      0      0       1    0       0       0   \n",
       "718      0.71        8.8  ...      0      0       0    0       0       0   \n",
       "719      0.51        9.0  ...      1      0       0    0       0       0   \n",
       "720      1.70      195.0  ...      0      0       0    0       0       0   \n",
       "\n",
       "     Psychic  Rock  Steel  Water  \n",
       "0          0     0      0      0  \n",
       "1          0     0      0      0  \n",
       "2          0     0      0      0  \n",
       "3          0     0      0      0  \n",
       "4          0     0      0      0  \n",
       "..       ...   ...    ...    ...  \n",
       "716        0     0      0      0  \n",
       "717        0     0      0      0  \n",
       "718        0     0      0      0  \n",
       "719        0     0      0      0  \n",
       "720        0     0      0      1  \n",
       "\n",
       "[721 rows x 85 columns]>"
      ]
     },
     "execution_count": 10,
     "metadata": {},
     "output_type": "execute_result"
    }
   ],
   "source": [
    "df = dummy_creation(df, ['Egg_Group_1', 'Body_Style', 'Color','Type_1', 'Type_2'])\n",
    "df.head"
   ]
  },
  {
   "cell_type": "markdown",
   "id": "e0f2548a",
   "metadata": {
    "papermill": {
     "duration": 0.056275,
     "end_time": "2022-04-27T03:10:35.580632",
     "exception": false,
     "start_time": "2022-04-27T03:10:35.524357",
     "status": "completed"
    },
    "tags": []
   },
   "source": [
    "###Now splitting the data into train and test"
   ]
  },
  {
   "cell_type": "code",
   "execution_count": 11,
   "id": "086585c0",
   "metadata": {
    "execution": {
     "iopub.execute_input": "2022-04-27T03:10:35.696029Z",
     "iopub.status.busy": "2022-04-27T03:10:35.695512Z",
     "iopub.status.idle": "2022-04-27T03:10:35.702195Z",
     "shell.execute_reply": "2022-04-27T03:10:35.701492Z"
    },
    "papermill": {
     "duration": 0.066806,
     "end_time": "2022-04-27T03:10:35.704044",
     "exception": false,
     "start_time": "2022-04-27T03:10:35.637238",
     "status": "completed"
    },
    "tags": []
   },
   "outputs": [
    {
     "data": {
      "text/plain": [
       "0      1\n",
       "1      1\n",
       "2      1\n",
       "3      1\n",
       "4      1\n",
       "      ..\n",
       "716    6\n",
       "717    6\n",
       "718    6\n",
       "719    6\n",
       "720    6\n",
       "Name: Generation, Length: 721, dtype: int64"
      ]
     },
     "execution_count": 11,
     "metadata": {},
     "output_type": "execute_result"
    }
   ],
   "source": [
    "df['Generation']"
   ]
  },
  {
   "cell_type": "code",
   "execution_count": 12,
   "id": "77451480",
   "metadata": {
    "execution": {
     "iopub.execute_input": "2022-04-27T03:10:35.819599Z",
     "iopub.status.busy": "2022-04-27T03:10:35.819312Z",
     "iopub.status.idle": "2022-04-27T03:10:35.829122Z",
     "shell.execute_reply": "2022-04-27T03:10:35.827972Z"
    },
    "papermill": {
     "duration": 0.070345,
     "end_time": "2022-04-27T03:10:35.831495",
     "exception": false,
     "start_time": "2022-04-27T03:10:35.761150",
     "status": "completed"
    },
    "tags": []
   },
   "outputs": [],
   "source": [
    "def train_test_splitter(DataFrame, column):\n",
    "    df_train = DataFrame.loc[df[column] != 1]\n",
    "    df_test = DataFrame.loc[df[column] == 1]\n",
    "    \n",
    "    df_train = df_train.drop(column, axis = 1)\n",
    "    df_test = df_test.drop(column, axis = 1)\n",
    "    \n",
    "    return(df_train, df_test)\n",
    "\n",
    "df_train, df_test = train_test_splitter(df, 'Generation')"
   ]
  },
  {
   "cell_type": "markdown",
   "id": "0714518d",
   "metadata": {
    "papermill": {
     "duration": 0.05887,
     "end_time": "2022-04-27T03:10:35.947977",
     "exception": false,
     "start_time": "2022-04-27T03:10:35.889107",
     "status": "completed"
    },
    "tags": []
   },
   "source": [
    "###Removing the isLegendary Category from dataframe since it is what the model should predict"
   ]
  },
  {
   "cell_type": "code",
   "execution_count": 13,
   "id": "a059695b",
   "metadata": {
    "execution": {
     "iopub.execute_input": "2022-04-27T03:10:36.073373Z",
     "iopub.status.busy": "2022-04-27T03:10:36.072825Z",
     "iopub.status.idle": "2022-04-27T03:10:36.086279Z",
     "shell.execute_reply": "2022-04-27T03:10:36.084858Z"
    },
    "papermill": {
     "duration": 0.082735,
     "end_time": "2022-04-27T03:10:36.089562",
     "exception": false,
     "start_time": "2022-04-27T03:10:36.006827",
     "status": "completed"
    },
    "tags": []
   },
   "outputs": [],
   "source": [
    "def label_delineator(df_train, df_test, label):\n",
    "    \n",
    "    train_data = df_train.drop(label, axis = 1).values\n",
    "    train_labels = df_train[label].values\n",
    "    test_data = df_test.drop(label, axis = 1).values\n",
    "    test_labels = df_test[label].values\n",
    "    \n",
    "    return(train_data, test_data, train_labels, test_labels)\n",
    "\n",
    "train_data, test_data, train_labels, test_labels = label_delineator(df_train, df_test, 'isLegendary')"
   ]
  },
  {
   "cell_type": "markdown",
   "id": "3b429784",
   "metadata": {
    "papermill": {
     "duration": 0.056964,
     "end_time": "2022-04-27T03:10:36.217487",
     "exception": false,
     "start_time": "2022-04-27T03:10:36.160523",
     "status": "completed"
    },
    "tags": []
   },
   "source": [
    "###Normalizing the data"
   ]
  },
  {
   "cell_type": "code",
   "execution_count": 14,
   "id": "47283103",
   "metadata": {
    "execution": {
     "iopub.execute_input": "2022-04-27T03:10:36.333922Z",
     "iopub.status.busy": "2022-04-27T03:10:36.333051Z",
     "iopub.status.idle": "2022-04-27T03:10:36.340802Z",
     "shell.execute_reply": "2022-04-27T03:10:36.339868Z"
    },
    "papermill": {
     "duration": 0.068672,
     "end_time": "2022-04-27T03:10:36.343192",
     "exception": false,
     "start_time": "2022-04-27T03:10:36.274520",
     "status": "completed"
    },
    "tags": []
   },
   "outputs": [],
   "source": [
    "def data_normalizer(train_data, test_data):\n",
    "    train_data = preprocessing.MinMaxScaler().fit_transform(train_data)\n",
    "    test_data = preprocessing.MinMaxScaler().fit_transform(test_data)\n",
    "    return(train_data, test_data)\n",
    "\n",
    "train_data, test_data = data_normalizer(train_data, test_data)"
   ]
  },
  {
   "cell_type": "markdown",
   "id": "46acac1a",
   "metadata": {
    "papermill": {
     "duration": 0.057398,
     "end_time": "2022-04-27T03:10:36.458386",
     "exception": false,
     "start_time": "2022-04-27T03:10:36.400988",
     "status": "completed"
    },
    "tags": []
   },
   "source": [
    "###Creating the neural network"
   ]
  },
  {
   "cell_type": "markdown",
   "id": "82a9fd9b",
   "metadata": {
    "papermill": {
     "duration": 0.057984,
     "end_time": "2022-04-27T03:10:36.573809",
     "exception": false,
     "start_time": "2022-04-27T03:10:36.515825",
     "status": "completed"
    },
    "tags": []
   },
   "source": [
    "Using keras to create the model with 500 neurons, relu activation and activation layer with 2 classes."
   ]
  },
  {
   "cell_type": "code",
   "execution_count": 15,
   "id": "85ba2a5b",
   "metadata": {
    "execution": {
     "iopub.execute_input": "2022-04-27T03:10:36.690354Z",
     "iopub.status.busy": "2022-04-27T03:10:36.690051Z",
     "iopub.status.idle": "2022-04-27T03:10:37.788391Z",
     "shell.execute_reply": "2022-04-27T03:10:37.787517Z"
    },
    "papermill": {
     "duration": 1.159106,
     "end_time": "2022-04-27T03:10:37.790630",
     "exception": false,
     "start_time": "2022-04-27T03:10:36.631524",
     "status": "completed"
    },
    "tags": []
   },
   "outputs": [
    {
     "name": "stderr",
     "output_type": "stream",
     "text": [
      "2022-04-27 03:10:37.713238: I tensorflow/core/common_runtime/process_util.cc:146] Creating new thread pool with default inter op setting: 2. Tune using inter_op_parallelism_threads for best performance.\n"
     ]
    }
   ],
   "source": [
    "length = train_data.shape[1]\n",
    "\n",
    "model = keras.Sequential()\n",
    "model.add(keras.layers.Dense(500, activation='relu', input_shape=[length,]))\n",
    "model.add(keras.layers.Dense(2, activation='softmax'))"
   ]
  },
  {
   "cell_type": "markdown",
   "id": "3f8eeb35",
   "metadata": {
    "papermill": {
     "duration": 0.058839,
     "end_time": "2022-04-27T03:10:37.906617",
     "exception": false,
     "start_time": "2022-04-27T03:10:37.847778",
     "status": "completed"
    },
    "tags": []
   },
   "source": [
    "###Compiling the model with SGD optimization and sparse categorical crossentropy"
   ]
  },
  {
   "cell_type": "code",
   "execution_count": 16,
   "id": "1d4eebf2",
   "metadata": {
    "execution": {
     "iopub.execute_input": "2022-04-27T03:10:38.029349Z",
     "iopub.status.busy": "2022-04-27T03:10:38.029067Z",
     "iopub.status.idle": "2022-04-27T03:10:38.043596Z",
     "shell.execute_reply": "2022-04-27T03:10:38.042659Z"
    },
    "papermill": {
     "duration": 0.081133,
     "end_time": "2022-04-27T03:10:38.046096",
     "exception": false,
     "start_time": "2022-04-27T03:10:37.964963",
     "status": "completed"
    },
    "tags": []
   },
   "outputs": [],
   "source": [
    "model.compile(optimizer='sgd', loss='sparse_categorical_crossentropy', metrics=['accuracy'])"
   ]
  },
  {
   "cell_type": "markdown",
   "id": "5fa4e7ad",
   "metadata": {
    "papermill": {
     "duration": 0.058432,
     "end_time": "2022-04-27T03:10:38.162418",
     "exception": false,
     "start_time": "2022-04-27T03:10:38.103986",
     "status": "completed"
    },
    "tags": []
   },
   "source": [
    "###Fit the data on Training Set"
   ]
  },
  {
   "cell_type": "code",
   "execution_count": 17,
   "id": "77dd9403",
   "metadata": {
    "execution": {
     "iopub.execute_input": "2022-04-27T03:10:38.281157Z",
     "iopub.status.busy": "2022-04-27T03:10:38.280858Z",
     "iopub.status.idle": "2022-04-27T03:10:59.272814Z",
     "shell.execute_reply": "2022-04-27T03:10:59.272163Z"
    },
    "papermill": {
     "duration": 21.053342,
     "end_time": "2022-04-27T03:10:59.274752",
     "exception": false,
     "start_time": "2022-04-27T03:10:38.221410",
     "status": "completed"
    },
    "tags": []
   },
   "outputs": [
    {
     "name": "stderr",
     "output_type": "stream",
     "text": [
      "2022-04-27 03:10:38.364217: I tensorflow/compiler/mlir/mlir_graph_optimization_pass.cc:185] None of the MLIR Optimization Passes are enabled (registered 2)\n"
     ]
    },
    {
     "name": "stdout",
     "output_type": "stream",
     "text": [
      "Epoch 1/400\n",
      "18/18 [==============================] - 1s 2ms/step - loss: 0.6369 - accuracy: 0.7123\n",
      "Epoch 2/400\n",
      "18/18 [==============================] - 0s 2ms/step - loss: 0.4796 - accuracy: 0.9263\n",
      "Epoch 3/400\n",
      "18/18 [==============================] - 0s 2ms/step - loss: 0.3973 - accuracy: 0.9263\n",
      "Epoch 4/400\n",
      "18/18 [==============================] - 0s 2ms/step - loss: 0.3511 - accuracy: 0.9263\n",
      "Epoch 5/400\n",
      "18/18 [==============================] - 0s 2ms/step - loss: 0.3228 - accuracy: 0.9263\n",
      "Epoch 6/400\n",
      "18/18 [==============================] - 0s 2ms/step - loss: 0.3041 - accuracy: 0.9263\n",
      "Epoch 7/400\n",
      "18/18 [==============================] - 0s 2ms/step - loss: 0.2908 - accuracy: 0.9263\n",
      "Epoch 8/400\n",
      "18/18 [==============================] - 0s 2ms/step - loss: 0.2810 - accuracy: 0.9263\n",
      "Epoch 9/400\n",
      "18/18 [==============================] - 0s 2ms/step - loss: 0.2731 - accuracy: 0.9263\n",
      "Epoch 10/400\n",
      "18/18 [==============================] - 0s 2ms/step - loss: 0.2667 - accuracy: 0.9263\n",
      "Epoch 11/400\n",
      "18/18 [==============================] - 0s 2ms/step - loss: 0.2612 - accuracy: 0.9263\n",
      "Epoch 12/400\n",
      "18/18 [==============================] - 0s 2ms/step - loss: 0.2562 - accuracy: 0.9263\n",
      "Epoch 13/400\n",
      "18/18 [==============================] - 0s 2ms/step - loss: 0.2517 - accuracy: 0.9263\n",
      "Epoch 14/400\n",
      "18/18 [==============================] - 0s 2ms/step - loss: 0.2475 - accuracy: 0.9263\n",
      "Epoch 15/400\n",
      "18/18 [==============================] - 0s 2ms/step - loss: 0.2434 - accuracy: 0.9263\n",
      "Epoch 16/400\n",
      "18/18 [==============================] - 0s 2ms/step - loss: 0.2395 - accuracy: 0.9263\n",
      "Epoch 17/400\n",
      "18/18 [==============================] - 0s 2ms/step - loss: 0.2358 - accuracy: 0.9263\n",
      "Epoch 18/400\n",
      "18/18 [==============================] - 0s 2ms/step - loss: 0.2321 - accuracy: 0.9263\n",
      "Epoch 19/400\n",
      "18/18 [==============================] - 0s 2ms/step - loss: 0.2284 - accuracy: 0.9263\n",
      "Epoch 20/400\n",
      "18/18 [==============================] - 0s 2ms/step - loss: 0.2250 - accuracy: 0.9263\n",
      "Epoch 21/400\n",
      "18/18 [==============================] - 0s 2ms/step - loss: 0.2216 - accuracy: 0.9263\n",
      "Epoch 22/400\n",
      "18/18 [==============================] - 0s 2ms/step - loss: 0.2182 - accuracy: 0.9263\n",
      "Epoch 23/400\n",
      "18/18 [==============================] - 0s 2ms/step - loss: 0.2147 - accuracy: 0.9263\n",
      "Epoch 24/400\n",
      "18/18 [==============================] - 0s 2ms/step - loss: 0.2114 - accuracy: 0.9263\n",
      "Epoch 25/400\n",
      "18/18 [==============================] - 0s 2ms/step - loss: 0.2081 - accuracy: 0.9263\n",
      "Epoch 26/400\n",
      "18/18 [==============================] - 0s 2ms/step - loss: 0.2049 - accuracy: 0.9263\n",
      "Epoch 27/400\n",
      "18/18 [==============================] - 0s 2ms/step - loss: 0.2015 - accuracy: 0.9263\n",
      "Epoch 28/400\n",
      "18/18 [==============================] - 0s 2ms/step - loss: 0.1984 - accuracy: 0.9263\n",
      "Epoch 29/400\n",
      "18/18 [==============================] - 0s 2ms/step - loss: 0.1951 - accuracy: 0.9263\n",
      "Epoch 30/400\n",
      "18/18 [==============================] - 0s 3ms/step - loss: 0.1920 - accuracy: 0.9263\n",
      "Epoch 31/400\n",
      "18/18 [==============================] - 0s 2ms/step - loss: 0.1888 - accuracy: 0.9263\n",
      "Epoch 32/400\n",
      "18/18 [==============================] - 0s 2ms/step - loss: 0.1857 - accuracy: 0.9263\n",
      "Epoch 33/400\n",
      "18/18 [==============================] - 0s 2ms/step - loss: 0.1827 - accuracy: 0.9263\n",
      "Epoch 34/400\n",
      "18/18 [==============================] - 0s 2ms/step - loss: 0.1796 - accuracy: 0.9263\n",
      "Epoch 35/400\n",
      "18/18 [==============================] - 0s 2ms/step - loss: 0.1766 - accuracy: 0.9263\n",
      "Epoch 36/400\n",
      "18/18 [==============================] - 0s 2ms/step - loss: 0.1736 - accuracy: 0.9263\n",
      "Epoch 37/400\n",
      "18/18 [==============================] - 0s 2ms/step - loss: 0.1707 - accuracy: 0.9263\n",
      "Epoch 38/400\n",
      "18/18 [==============================] - 0s 2ms/step - loss: 0.1678 - accuracy: 0.9263\n",
      "Epoch 39/400\n",
      "18/18 [==============================] - 0s 2ms/step - loss: 0.1649 - accuracy: 0.9263\n",
      "Epoch 40/400\n",
      "18/18 [==============================] - 0s 2ms/step - loss: 0.1622 - accuracy: 0.9263\n",
      "Epoch 41/400\n",
      "18/18 [==============================] - 0s 2ms/step - loss: 0.1593 - accuracy: 0.9263\n",
      "Epoch 42/400\n",
      "18/18 [==============================] - 0s 2ms/step - loss: 0.1566 - accuracy: 0.9263\n",
      "Epoch 43/400\n",
      "18/18 [==============================] - 0s 2ms/step - loss: 0.1538 - accuracy: 0.9263\n",
      "Epoch 44/400\n",
      "18/18 [==============================] - 0s 2ms/step - loss: 0.1511 - accuracy: 0.9263\n",
      "Epoch 45/400\n",
      "18/18 [==============================] - 0s 2ms/step - loss: 0.1485 - accuracy: 0.9263\n",
      "Epoch 46/400\n",
      "18/18 [==============================] - 0s 2ms/step - loss: 0.1459 - accuracy: 0.9263\n",
      "Epoch 47/400\n",
      "18/18 [==============================] - 0s 2ms/step - loss: 0.1433 - accuracy: 0.9263\n",
      "Epoch 48/400\n",
      "18/18 [==============================] - 0s 2ms/step - loss: 0.1408 - accuracy: 0.9263\n",
      "Epoch 49/400\n",
      "18/18 [==============================] - 0s 2ms/step - loss: 0.1384 - accuracy: 0.9263\n",
      "Epoch 50/400\n",
      "18/18 [==============================] - 0s 2ms/step - loss: 0.1360 - accuracy: 0.9263\n",
      "Epoch 51/400\n",
      "18/18 [==============================] - 0s 2ms/step - loss: 0.1336 - accuracy: 0.9263\n",
      "Epoch 52/400\n",
      "18/18 [==============================] - 0s 2ms/step - loss: 0.1313 - accuracy: 0.9263\n",
      "Epoch 53/400\n",
      "18/18 [==============================] - 0s 2ms/step - loss: 0.1291 - accuracy: 0.9263\n",
      "Epoch 54/400\n",
      "18/18 [==============================] - 0s 2ms/step - loss: 0.1269 - accuracy: 0.9263\n",
      "Epoch 55/400\n",
      "18/18 [==============================] - 0s 2ms/step - loss: 0.1247 - accuracy: 0.9263\n",
      "Epoch 56/400\n",
      "18/18 [==============================] - 0s 2ms/step - loss: 0.1226 - accuracy: 0.9281\n",
      "Epoch 57/400\n",
      "18/18 [==============================] - 0s 2ms/step - loss: 0.1205 - accuracy: 0.9298\n",
      "Epoch 58/400\n",
      "18/18 [==============================] - 0s 2ms/step - loss: 0.1185 - accuracy: 0.9316\n",
      "Epoch 59/400\n",
      "18/18 [==============================] - 0s 2ms/step - loss: 0.1166 - accuracy: 0.9316\n",
      "Epoch 60/400\n",
      "18/18 [==============================] - 0s 2ms/step - loss: 0.1146 - accuracy: 0.9316\n",
      "Epoch 61/400\n",
      "18/18 [==============================] - 0s 2ms/step - loss: 0.1127 - accuracy: 0.9351\n",
      "Epoch 62/400\n",
      "18/18 [==============================] - 0s 2ms/step - loss: 0.1109 - accuracy: 0.9439\n",
      "Epoch 63/400\n",
      "18/18 [==============================] - 0s 2ms/step - loss: 0.1091 - accuracy: 0.9491\n",
      "Epoch 64/400\n",
      "18/18 [==============================] - 0s 2ms/step - loss: 0.1074 - accuracy: 0.9544\n",
      "Epoch 65/400\n",
      "18/18 [==============================] - 0s 2ms/step - loss: 0.1057 - accuracy: 0.9544\n",
      "Epoch 66/400\n",
      "18/18 [==============================] - 0s 2ms/step - loss: 0.1041 - accuracy: 0.9561\n",
      "Epoch 67/400\n",
      "18/18 [==============================] - 0s 2ms/step - loss: 0.1024 - accuracy: 0.9632\n",
      "Epoch 68/400\n",
      "18/18 [==============================] - 0s 2ms/step - loss: 0.1010 - accuracy: 0.9649\n",
      "Epoch 69/400\n",
      "18/18 [==============================] - 0s 2ms/step - loss: 0.0994 - accuracy: 0.9684\n",
      "Epoch 70/400\n",
      "18/18 [==============================] - 0s 2ms/step - loss: 0.0979 - accuracy: 0.9684\n",
      "Epoch 71/400\n",
      "18/18 [==============================] - 0s 2ms/step - loss: 0.0965 - accuracy: 0.9702\n",
      "Epoch 72/400\n",
      "18/18 [==============================] - 0s 2ms/step - loss: 0.0951 - accuracy: 0.9719\n",
      "Epoch 73/400\n",
      "18/18 [==============================] - 0s 2ms/step - loss: 0.0937 - accuracy: 0.9737\n",
      "Epoch 74/400\n",
      "18/18 [==============================] - 0s 2ms/step - loss: 0.0924 - accuracy: 0.9737\n",
      "Epoch 75/400\n",
      "18/18 [==============================] - 0s 2ms/step - loss: 0.0911 - accuracy: 0.9737\n",
      "Epoch 76/400\n",
      "18/18 [==============================] - 0s 2ms/step - loss: 0.0899 - accuracy: 0.9702\n",
      "Epoch 77/400\n",
      "18/18 [==============================] - 0s 2ms/step - loss: 0.0887 - accuracy: 0.9754\n",
      "Epoch 78/400\n",
      "18/18 [==============================] - 0s 2ms/step - loss: 0.0874 - accuracy: 0.9772\n",
      "Epoch 79/400\n",
      "18/18 [==============================] - 0s 2ms/step - loss: 0.0864 - accuracy: 0.9807\n",
      "Epoch 80/400\n",
      "18/18 [==============================] - 0s 2ms/step - loss: 0.0852 - accuracy: 0.9807\n",
      "Epoch 81/400\n",
      "18/18 [==============================] - 0s 2ms/step - loss: 0.0841 - accuracy: 0.9789\n",
      "Epoch 82/400\n",
      "18/18 [==============================] - 0s 2ms/step - loss: 0.0831 - accuracy: 0.9825\n",
      "Epoch 83/400\n",
      "18/18 [==============================] - 0s 2ms/step - loss: 0.0820 - accuracy: 0.9825\n",
      "Epoch 84/400\n",
      "18/18 [==============================] - 0s 2ms/step - loss: 0.0810 - accuracy: 0.9825\n",
      "Epoch 85/400\n",
      "18/18 [==============================] - 0s 2ms/step - loss: 0.0801 - accuracy: 0.9842\n",
      "Epoch 86/400\n",
      "18/18 [==============================] - 0s 2ms/step - loss: 0.0791 - accuracy: 0.9860\n",
      "Epoch 87/400\n",
      "18/18 [==============================] - 0s 2ms/step - loss: 0.0782 - accuracy: 0.9860\n",
      "Epoch 88/400\n",
      "18/18 [==============================] - 0s 2ms/step - loss: 0.0773 - accuracy: 0.9860\n",
      "Epoch 89/400\n",
      "18/18 [==============================] - 0s 2ms/step - loss: 0.0764 - accuracy: 0.9877\n",
      "Epoch 90/400\n",
      "18/18 [==============================] - 0s 2ms/step - loss: 0.0755 - accuracy: 0.9912\n",
      "Epoch 91/400\n",
      "18/18 [==============================] - 0s 2ms/step - loss: 0.0747 - accuracy: 0.9895\n",
      "Epoch 92/400\n",
      "18/18 [==============================] - 0s 2ms/step - loss: 0.0738 - accuracy: 0.9912\n",
      "Epoch 93/400\n",
      "18/18 [==============================] - 0s 2ms/step - loss: 0.0731 - accuracy: 0.9930\n",
      "Epoch 94/400\n",
      "18/18 [==============================] - 0s 2ms/step - loss: 0.0723 - accuracy: 0.9947\n",
      "Epoch 95/400\n",
      "18/18 [==============================] - 0s 2ms/step - loss: 0.0715 - accuracy: 0.9930\n",
      "Epoch 96/400\n",
      "18/18 [==============================] - 0s 2ms/step - loss: 0.0708 - accuracy: 0.9930\n",
      "Epoch 97/400\n",
      "18/18 [==============================] - 0s 2ms/step - loss: 0.0701 - accuracy: 0.9947\n",
      "Epoch 98/400\n",
      "18/18 [==============================] - 0s 2ms/step - loss: 0.0694 - accuracy: 0.9947\n",
      "Epoch 99/400\n",
      "18/18 [==============================] - 0s 2ms/step - loss: 0.0687 - accuracy: 0.9947\n",
      "Epoch 100/400\n",
      "18/18 [==============================] - 0s 2ms/step - loss: 0.0680 - accuracy: 0.9947\n",
      "Epoch 101/400\n",
      "18/18 [==============================] - 0s 2ms/step - loss: 0.0674 - accuracy: 0.9930\n",
      "Epoch 102/400\n",
      "18/18 [==============================] - 0s 2ms/step - loss: 0.0667 - accuracy: 0.9947\n",
      "Epoch 103/400\n",
      "18/18 [==============================] - 0s 2ms/step - loss: 0.0661 - accuracy: 0.9947\n",
      "Epoch 104/400\n",
      "18/18 [==============================] - 0s 2ms/step - loss: 0.0655 - accuracy: 0.9947\n",
      "Epoch 105/400\n",
      "18/18 [==============================] - 0s 2ms/step - loss: 0.0649 - accuracy: 0.9930\n",
      "Epoch 106/400\n",
      "18/18 [==============================] - 0s 2ms/step - loss: 0.0643 - accuracy: 0.9930\n",
      "Epoch 107/400\n",
      "18/18 [==============================] - 0s 2ms/step - loss: 0.0637 - accuracy: 0.9930\n",
      "Epoch 108/400\n",
      "18/18 [==============================] - 0s 2ms/step - loss: 0.0632 - accuracy: 0.9930\n",
      "Epoch 109/400\n",
      "18/18 [==============================] - 0s 2ms/step - loss: 0.0626 - accuracy: 0.9930\n",
      "Epoch 110/400\n",
      "18/18 [==============================] - 0s 2ms/step - loss: 0.0621 - accuracy: 0.9930\n",
      "Epoch 111/400\n",
      "18/18 [==============================] - 0s 2ms/step - loss: 0.0615 - accuracy: 0.9930\n",
      "Epoch 112/400\n",
      "18/18 [==============================] - 0s 2ms/step - loss: 0.0610 - accuracy: 0.9930\n",
      "Epoch 113/400\n",
      "18/18 [==============================] - 0s 2ms/step - loss: 0.0605 - accuracy: 0.9947\n",
      "Epoch 114/400\n",
      "18/18 [==============================] - 0s 2ms/step - loss: 0.0600 - accuracy: 0.9930\n",
      "Epoch 115/400\n",
      "18/18 [==============================] - 0s 2ms/step - loss: 0.0595 - accuracy: 0.9930\n",
      "Epoch 116/400\n",
      "18/18 [==============================] - 0s 2ms/step - loss: 0.0591 - accuracy: 0.9947\n",
      "Epoch 117/400\n",
      "18/18 [==============================] - 0s 2ms/step - loss: 0.0586 - accuracy: 0.9947\n",
      "Epoch 118/400\n",
      "18/18 [==============================] - 0s 2ms/step - loss: 0.0581 - accuracy: 0.9947\n",
      "Epoch 119/400\n",
      "18/18 [==============================] - 0s 2ms/step - loss: 0.0577 - accuracy: 0.9947\n",
      "Epoch 120/400\n",
      "18/18 [==============================] - 0s 2ms/step - loss: 0.0573 - accuracy: 0.9947\n",
      "Epoch 121/400\n",
      "18/18 [==============================] - 0s 2ms/step - loss: 0.0568 - accuracy: 0.9947\n",
      "Epoch 122/400\n",
      "18/18 [==============================] - 0s 2ms/step - loss: 0.0564 - accuracy: 0.9947\n",
      "Epoch 123/400\n",
      "18/18 [==============================] - 0s 2ms/step - loss: 0.0560 - accuracy: 0.9947\n",
      "Epoch 124/400\n",
      "18/18 [==============================] - 0s 2ms/step - loss: 0.0556 - accuracy: 0.9947\n",
      "Epoch 125/400\n",
      "18/18 [==============================] - 0s 2ms/step - loss: 0.0552 - accuracy: 0.9947\n",
      "Epoch 126/400\n",
      "18/18 [==============================] - 0s 2ms/step - loss: 0.0548 - accuracy: 0.9947\n",
      "Epoch 127/400\n",
      "18/18 [==============================] - 0s 2ms/step - loss: 0.0544 - accuracy: 0.9947\n",
      "Epoch 128/400\n",
      "18/18 [==============================] - 0s 2ms/step - loss: 0.0540 - accuracy: 0.9947\n",
      "Epoch 129/400\n",
      "18/18 [==============================] - 0s 2ms/step - loss: 0.0536 - accuracy: 0.9947\n",
      "Epoch 130/400\n",
      "18/18 [==============================] - 0s 2ms/step - loss: 0.0532 - accuracy: 0.9947\n",
      "Epoch 131/400\n",
      "18/18 [==============================] - 0s 2ms/step - loss: 0.0529 - accuracy: 0.9947\n",
      "Epoch 132/400\n",
      "18/18 [==============================] - 0s 2ms/step - loss: 0.0526 - accuracy: 0.9947\n",
      "Epoch 133/400\n",
      "18/18 [==============================] - 0s 2ms/step - loss: 0.0522 - accuracy: 0.9947\n",
      "Epoch 134/400\n",
      "18/18 [==============================] - 0s 2ms/step - loss: 0.0518 - accuracy: 0.9947\n",
      "Epoch 135/400\n",
      "18/18 [==============================] - 0s 2ms/step - loss: 0.0515 - accuracy: 0.9947\n",
      "Epoch 136/400\n",
      "18/18 [==============================] - 0s 2ms/step - loss: 0.0511 - accuracy: 0.9947\n",
      "Epoch 137/400\n",
      "18/18 [==============================] - 0s 2ms/step - loss: 0.0509 - accuracy: 0.9947\n",
      "Epoch 138/400\n",
      "18/18 [==============================] - 0s 2ms/step - loss: 0.0505 - accuracy: 0.9947\n",
      "Epoch 139/400\n",
      "18/18 [==============================] - 0s 2ms/step - loss: 0.0502 - accuracy: 0.9947\n",
      "Epoch 140/400\n",
      "18/18 [==============================] - 0s 2ms/step - loss: 0.0499 - accuracy: 0.9965\n",
      "Epoch 141/400\n",
      "18/18 [==============================] - 0s 2ms/step - loss: 0.0496 - accuracy: 0.9965\n",
      "Epoch 142/400\n",
      "18/18 [==============================] - 0s 2ms/step - loss: 0.0493 - accuracy: 0.9965\n",
      "Epoch 143/400\n",
      "18/18 [==============================] - 0s 2ms/step - loss: 0.0490 - accuracy: 0.9947\n",
      "Epoch 144/400\n",
      "18/18 [==============================] - 0s 2ms/step - loss: 0.0486 - accuracy: 0.9947\n",
      "Epoch 145/400\n",
      "18/18 [==============================] - 0s 2ms/step - loss: 0.0484 - accuracy: 0.9947\n",
      "Epoch 146/400\n",
      "18/18 [==============================] - 0s 2ms/step - loss: 0.0481 - accuracy: 0.9965\n",
      "Epoch 147/400\n",
      "18/18 [==============================] - 0s 2ms/step - loss: 0.0478 - accuracy: 0.9947\n",
      "Epoch 148/400\n",
      "18/18 [==============================] - 0s 2ms/step - loss: 0.0475 - accuracy: 0.9947\n",
      "Epoch 149/400\n",
      "18/18 [==============================] - 0s 2ms/step - loss: 0.0472 - accuracy: 0.9965\n",
      "Epoch 150/400\n",
      "18/18 [==============================] - 0s 2ms/step - loss: 0.0470 - accuracy: 0.9965\n",
      "Epoch 151/400\n",
      "18/18 [==============================] - 0s 2ms/step - loss: 0.0467 - accuracy: 0.9965\n",
      "Epoch 152/400\n",
      "18/18 [==============================] - 0s 2ms/step - loss: 0.0465 - accuracy: 0.9965\n",
      "Epoch 153/400\n",
      "18/18 [==============================] - 0s 2ms/step - loss: 0.0462 - accuracy: 0.9965\n",
      "Epoch 154/400\n",
      "18/18 [==============================] - 0s 2ms/step - loss: 0.0460 - accuracy: 0.9947\n",
      "Epoch 155/400\n",
      "18/18 [==============================] - 0s 2ms/step - loss: 0.0457 - accuracy: 0.9965\n",
      "Epoch 156/400\n",
      "18/18 [==============================] - 0s 2ms/step - loss: 0.0455 - accuracy: 0.9947\n",
      "Epoch 157/400\n",
      "18/18 [==============================] - 0s 2ms/step - loss: 0.0452 - accuracy: 0.9965\n",
      "Epoch 158/400\n",
      "18/18 [==============================] - 0s 2ms/step - loss: 0.0449 - accuracy: 0.9947\n",
      "Epoch 159/400\n",
      "18/18 [==============================] - 0s 2ms/step - loss: 0.0447 - accuracy: 0.9965\n",
      "Epoch 160/400\n",
      "18/18 [==============================] - 0s 2ms/step - loss: 0.0444 - accuracy: 0.9965\n",
      "Epoch 161/400\n",
      "18/18 [==============================] - 0s 2ms/step - loss: 0.0442 - accuracy: 0.9965\n",
      "Epoch 162/400\n",
      "18/18 [==============================] - 0s 2ms/step - loss: 0.0440 - accuracy: 0.9965\n",
      "Epoch 163/400\n",
      "18/18 [==============================] - 0s 2ms/step - loss: 0.0437 - accuracy: 0.9965\n",
      "Epoch 164/400\n",
      "18/18 [==============================] - 0s 2ms/step - loss: 0.0435 - accuracy: 0.9965\n",
      "Epoch 165/400\n",
      "18/18 [==============================] - 0s 2ms/step - loss: 0.0433 - accuracy: 0.9965\n",
      "Epoch 166/400\n",
      "18/18 [==============================] - 0s 2ms/step - loss: 0.0431 - accuracy: 0.9965\n",
      "Epoch 167/400\n",
      "18/18 [==============================] - 0s 2ms/step - loss: 0.0428 - accuracy: 0.9965\n",
      "Epoch 168/400\n",
      "18/18 [==============================] - 0s 2ms/step - loss: 0.0426 - accuracy: 0.9965\n",
      "Epoch 169/400\n",
      "18/18 [==============================] - 0s 2ms/step - loss: 0.0424 - accuracy: 0.9965\n",
      "Epoch 170/400\n",
      "18/18 [==============================] - 0s 2ms/step - loss: 0.0422 - accuracy: 0.9965\n",
      "Epoch 171/400\n",
      "18/18 [==============================] - 0s 2ms/step - loss: 0.0420 - accuracy: 0.9965\n",
      "Epoch 172/400\n",
      "18/18 [==============================] - 0s 2ms/step - loss: 0.0418 - accuracy: 0.9965\n",
      "Epoch 173/400\n",
      "18/18 [==============================] - 0s 2ms/step - loss: 0.0416 - accuracy: 0.9965\n",
      "Epoch 174/400\n",
      "18/18 [==============================] - 0s 2ms/step - loss: 0.0414 - accuracy: 0.9965\n",
      "Epoch 175/400\n",
      "18/18 [==============================] - 0s 2ms/step - loss: 0.0412 - accuracy: 0.9965\n",
      "Epoch 176/400\n",
      "18/18 [==============================] - 0s 2ms/step - loss: 0.0409 - accuracy: 0.9965\n",
      "Epoch 177/400\n",
      "18/18 [==============================] - 0s 2ms/step - loss: 0.0407 - accuracy: 0.9965\n",
      "Epoch 178/400\n",
      "18/18 [==============================] - 0s 2ms/step - loss: 0.0406 - accuracy: 0.9965\n",
      "Epoch 179/400\n",
      "18/18 [==============================] - 0s 2ms/step - loss: 0.0404 - accuracy: 0.9965\n",
      "Epoch 180/400\n",
      "18/18 [==============================] - 0s 2ms/step - loss: 0.0402 - accuracy: 0.9965\n",
      "Epoch 181/400\n",
      "18/18 [==============================] - 0s 2ms/step - loss: 0.0400 - accuracy: 0.9965\n",
      "Epoch 182/400\n",
      "18/18 [==============================] - 0s 2ms/step - loss: 0.0398 - accuracy: 0.9965\n",
      "Epoch 183/400\n",
      "18/18 [==============================] - 0s 2ms/step - loss: 0.0396 - accuracy: 0.9965\n",
      "Epoch 184/400\n",
      "18/18 [==============================] - 0s 2ms/step - loss: 0.0394 - accuracy: 0.9965\n",
      "Epoch 185/400\n",
      "18/18 [==============================] - 0s 2ms/step - loss: 0.0393 - accuracy: 0.9965\n",
      "Epoch 186/400\n",
      "18/18 [==============================] - 0s 2ms/step - loss: 0.0391 - accuracy: 0.9965\n",
      "Epoch 187/400\n",
      "18/18 [==============================] - 0s 2ms/step - loss: 0.0389 - accuracy: 0.9965\n",
      "Epoch 188/400\n",
      "18/18 [==============================] - 0s 2ms/step - loss: 0.0387 - accuracy: 0.9965\n",
      "Epoch 189/400\n",
      "18/18 [==============================] - 0s 2ms/step - loss: 0.0386 - accuracy: 0.9965\n",
      "Epoch 190/400\n",
      "18/18 [==============================] - 0s 2ms/step - loss: 0.0384 - accuracy: 0.9965\n",
      "Epoch 191/400\n",
      "18/18 [==============================] - 0s 2ms/step - loss: 0.0382 - accuracy: 0.9965\n",
      "Epoch 192/400\n",
      "18/18 [==============================] - 0s 2ms/step - loss: 0.0381 - accuracy: 0.9965\n",
      "Epoch 193/400\n",
      "18/18 [==============================] - 0s 2ms/step - loss: 0.0379 - accuracy: 0.9965\n",
      "Epoch 194/400\n",
      "18/18 [==============================] - 0s 2ms/step - loss: 0.0377 - accuracy: 0.9965\n",
      "Epoch 195/400\n",
      "18/18 [==============================] - 0s 2ms/step - loss: 0.0376 - accuracy: 0.9965\n",
      "Epoch 196/400\n",
      "18/18 [==============================] - 0s 2ms/step - loss: 0.0374 - accuracy: 0.9965\n",
      "Epoch 197/400\n",
      "18/18 [==============================] - 0s 2ms/step - loss: 0.0373 - accuracy: 0.9965\n",
      "Epoch 198/400\n",
      "18/18 [==============================] - 0s 2ms/step - loss: 0.0371 - accuracy: 0.9965\n",
      "Epoch 199/400\n",
      "18/18 [==============================] - 0s 2ms/step - loss: 0.0369 - accuracy: 0.9965\n",
      "Epoch 200/400\n",
      "18/18 [==============================] - 0s 2ms/step - loss: 0.0368 - accuracy: 0.9965\n",
      "Epoch 201/400\n",
      "18/18 [==============================] - 0s 2ms/step - loss: 0.0366 - accuracy: 0.9965\n",
      "Epoch 202/400\n",
      "18/18 [==============================] - 0s 2ms/step - loss: 0.0365 - accuracy: 0.9965\n",
      "Epoch 203/400\n",
      "18/18 [==============================] - 0s 2ms/step - loss: 0.0363 - accuracy: 0.9965\n",
      "Epoch 204/400\n",
      "18/18 [==============================] - 0s 2ms/step - loss: 0.0362 - accuracy: 0.9965\n",
      "Epoch 205/400\n",
      "18/18 [==============================] - 0s 2ms/step - loss: 0.0360 - accuracy: 0.9965\n",
      "Epoch 206/400\n",
      "18/18 [==============================] - 0s 2ms/step - loss: 0.0359 - accuracy: 0.9965\n",
      "Epoch 207/400\n",
      "18/18 [==============================] - 0s 2ms/step - loss: 0.0357 - accuracy: 0.9965\n",
      "Epoch 208/400\n",
      "18/18 [==============================] - 0s 2ms/step - loss: 0.0356 - accuracy: 0.9965\n",
      "Epoch 209/400\n",
      "18/18 [==============================] - 0s 2ms/step - loss: 0.0354 - accuracy: 0.9965\n",
      "Epoch 210/400\n",
      "18/18 [==============================] - 0s 2ms/step - loss: 0.0353 - accuracy: 0.9965\n",
      "Epoch 211/400\n",
      "18/18 [==============================] - 0s 2ms/step - loss: 0.0351 - accuracy: 0.9965\n",
      "Epoch 212/400\n",
      "18/18 [==============================] - 0s 2ms/step - loss: 0.0350 - accuracy: 0.9965\n",
      "Epoch 213/400\n",
      "18/18 [==============================] - 0s 2ms/step - loss: 0.0349 - accuracy: 0.9965\n",
      "Epoch 214/400\n",
      "18/18 [==============================] - 0s 2ms/step - loss: 0.0347 - accuracy: 0.9965\n",
      "Epoch 215/400\n",
      "18/18 [==============================] - 0s 5ms/step - loss: 0.0346 - accuracy: 0.9965\n",
      "Epoch 216/400\n",
      "18/18 [==============================] - 0s 2ms/step - loss: 0.0345 - accuracy: 0.9965\n",
      "Epoch 217/400\n",
      "18/18 [==============================] - 0s 2ms/step - loss: 0.0343 - accuracy: 0.9965\n",
      "Epoch 218/400\n",
      "18/18 [==============================] - 0s 2ms/step - loss: 0.0342 - accuracy: 0.9965\n",
      "Epoch 219/400\n",
      "18/18 [==============================] - 0s 2ms/step - loss: 0.0341 - accuracy: 0.9965\n",
      "Epoch 220/400\n",
      "18/18 [==============================] - 0s 2ms/step - loss: 0.0339 - accuracy: 0.9965\n",
      "Epoch 221/400\n",
      "18/18 [==============================] - 0s 2ms/step - loss: 0.0338 - accuracy: 0.9965\n",
      "Epoch 222/400\n",
      "18/18 [==============================] - 0s 2ms/step - loss: 0.0337 - accuracy: 0.9965\n",
      "Epoch 223/400\n",
      "18/18 [==============================] - 0s 2ms/step - loss: 0.0335 - accuracy: 0.9965\n",
      "Epoch 224/400\n",
      "18/18 [==============================] - 0s 2ms/step - loss: 0.0334 - accuracy: 0.9965\n",
      "Epoch 225/400\n",
      "18/18 [==============================] - 0s 2ms/step - loss: 0.0333 - accuracy: 0.9965\n",
      "Epoch 226/400\n",
      "18/18 [==============================] - 0s 2ms/step - loss: 0.0332 - accuracy: 0.9965\n",
      "Epoch 227/400\n",
      "18/18 [==============================] - 0s 2ms/step - loss: 0.0330 - accuracy: 0.9965\n",
      "Epoch 228/400\n",
      "18/18 [==============================] - 0s 2ms/step - loss: 0.0329 - accuracy: 0.9965\n",
      "Epoch 229/400\n",
      "18/18 [==============================] - 0s 2ms/step - loss: 0.0328 - accuracy: 0.9965\n",
      "Epoch 230/400\n",
      "18/18 [==============================] - 0s 2ms/step - loss: 0.0327 - accuracy: 0.9965\n",
      "Epoch 231/400\n",
      "18/18 [==============================] - 0s 2ms/step - loss: 0.0326 - accuracy: 0.9965\n",
      "Epoch 232/400\n",
      "18/18 [==============================] - 0s 2ms/step - loss: 0.0324 - accuracy: 0.9965\n",
      "Epoch 233/400\n",
      "18/18 [==============================] - 0s 2ms/step - loss: 0.0323 - accuracy: 0.9965\n",
      "Epoch 234/400\n",
      "18/18 [==============================] - 0s 2ms/step - loss: 0.0322 - accuracy: 0.9965\n",
      "Epoch 235/400\n",
      "18/18 [==============================] - 0s 2ms/step - loss: 0.0321 - accuracy: 0.9965\n",
      "Epoch 236/400\n",
      "18/18 [==============================] - 0s 2ms/step - loss: 0.0319 - accuracy: 0.9965\n",
      "Epoch 237/400\n",
      "18/18 [==============================] - 0s 2ms/step - loss: 0.0319 - accuracy: 0.9965\n",
      "Epoch 238/400\n",
      "18/18 [==============================] - 0s 2ms/step - loss: 0.0317 - accuracy: 0.9965\n",
      "Epoch 239/400\n",
      "18/18 [==============================] - 0s 2ms/step - loss: 0.0316 - accuracy: 0.9965\n",
      "Epoch 240/400\n",
      "18/18 [==============================] - 0s 2ms/step - loss: 0.0315 - accuracy: 0.9965\n",
      "Epoch 241/400\n",
      "18/18 [==============================] - 0s 2ms/step - loss: 0.0314 - accuracy: 0.9965\n",
      "Epoch 242/400\n",
      "18/18 [==============================] - 0s 2ms/step - loss: 0.0313 - accuracy: 0.9965\n",
      "Epoch 243/400\n",
      "18/18 [==============================] - 0s 2ms/step - loss: 0.0312 - accuracy: 0.9965\n",
      "Epoch 244/400\n",
      "18/18 [==============================] - 0s 2ms/step - loss: 0.0310 - accuracy: 0.9965\n",
      "Epoch 245/400\n",
      "18/18 [==============================] - 0s 2ms/step - loss: 0.0309 - accuracy: 0.9965\n",
      "Epoch 246/400\n",
      "18/18 [==============================] - 0s 2ms/step - loss: 0.0309 - accuracy: 0.9965\n",
      "Epoch 247/400\n",
      "18/18 [==============================] - 0s 2ms/step - loss: 0.0307 - accuracy: 0.9965\n",
      "Epoch 248/400\n",
      "18/18 [==============================] - 0s 2ms/step - loss: 0.0307 - accuracy: 0.9965\n",
      "Epoch 249/400\n",
      "18/18 [==============================] - 0s 2ms/step - loss: 0.0305 - accuracy: 0.9965\n",
      "Epoch 250/400\n",
      "18/18 [==============================] - 0s 2ms/step - loss: 0.0304 - accuracy: 0.9965\n",
      "Epoch 251/400\n",
      "18/18 [==============================] - 0s 2ms/step - loss: 0.0303 - accuracy: 0.9965\n",
      "Epoch 252/400\n",
      "18/18 [==============================] - 0s 2ms/step - loss: 0.0302 - accuracy: 0.9965\n",
      "Epoch 253/400\n",
      "18/18 [==============================] - 0s 2ms/step - loss: 0.0301 - accuracy: 0.9965\n",
      "Epoch 254/400\n",
      "18/18 [==============================] - 0s 2ms/step - loss: 0.0300 - accuracy: 0.9965\n",
      "Epoch 255/400\n",
      "18/18 [==============================] - 0s 2ms/step - loss: 0.0299 - accuracy: 0.9965\n",
      "Epoch 256/400\n",
      "18/18 [==============================] - 0s 2ms/step - loss: 0.0298 - accuracy: 0.9965\n",
      "Epoch 257/400\n",
      "18/18 [==============================] - 0s 2ms/step - loss: 0.0297 - accuracy: 0.9965\n",
      "Epoch 258/400\n",
      "18/18 [==============================] - 0s 2ms/step - loss: 0.0296 - accuracy: 0.9965\n",
      "Epoch 259/400\n",
      "18/18 [==============================] - 0s 2ms/step - loss: 0.0295 - accuracy: 0.9965\n",
      "Epoch 260/400\n",
      "18/18 [==============================] - 0s 2ms/step - loss: 0.0294 - accuracy: 0.9965\n",
      "Epoch 261/400\n",
      "18/18 [==============================] - 0s 2ms/step - loss: 0.0293 - accuracy: 0.9965\n",
      "Epoch 262/400\n",
      "18/18 [==============================] - 0s 2ms/step - loss: 0.0292 - accuracy: 0.9965\n",
      "Epoch 263/400\n",
      "18/18 [==============================] - 0s 2ms/step - loss: 0.0291 - accuracy: 0.9965\n",
      "Epoch 264/400\n",
      "18/18 [==============================] - 0s 2ms/step - loss: 0.0290 - accuracy: 0.9965\n",
      "Epoch 265/400\n",
      "18/18 [==============================] - 0s 2ms/step - loss: 0.0289 - accuracy: 0.9965\n",
      "Epoch 266/400\n",
      "18/18 [==============================] - 0s 2ms/step - loss: 0.0288 - accuracy: 0.9965\n",
      "Epoch 267/400\n",
      "18/18 [==============================] - 0s 2ms/step - loss: 0.0287 - accuracy: 0.9965\n",
      "Epoch 268/400\n",
      "18/18 [==============================] - 0s 2ms/step - loss: 0.0286 - accuracy: 0.9965\n",
      "Epoch 269/400\n",
      "18/18 [==============================] - 0s 2ms/step - loss: 0.0286 - accuracy: 0.9965\n",
      "Epoch 270/400\n",
      "18/18 [==============================] - 0s 2ms/step - loss: 0.0284 - accuracy: 0.9965\n",
      "Epoch 271/400\n",
      "18/18 [==============================] - 0s 2ms/step - loss: 0.0284 - accuracy: 0.9965\n",
      "Epoch 272/400\n",
      "18/18 [==============================] - 0s 2ms/step - loss: 0.0282 - accuracy: 0.9965\n",
      "Epoch 273/400\n",
      "18/18 [==============================] - 0s 2ms/step - loss: 0.0282 - accuracy: 0.9965\n",
      "Epoch 274/400\n",
      "18/18 [==============================] - 0s 2ms/step - loss: 0.0281 - accuracy: 0.9965\n",
      "Epoch 275/400\n",
      "18/18 [==============================] - 0s 2ms/step - loss: 0.0280 - accuracy: 0.9965\n",
      "Epoch 276/400\n",
      "18/18 [==============================] - 0s 2ms/step - loss: 0.0279 - accuracy: 0.9965\n",
      "Epoch 277/400\n",
      "18/18 [==============================] - 0s 2ms/step - loss: 0.0278 - accuracy: 0.9965\n",
      "Epoch 278/400\n",
      "18/18 [==============================] - 0s 2ms/step - loss: 0.0277 - accuracy: 0.9965\n",
      "Epoch 279/400\n",
      "18/18 [==============================] - 0s 2ms/step - loss: 0.0276 - accuracy: 0.9965\n",
      "Epoch 280/400\n",
      "18/18 [==============================] - 0s 2ms/step - loss: 0.0275 - accuracy: 0.9965\n",
      "Epoch 281/400\n",
      "18/18 [==============================] - 0s 2ms/step - loss: 0.0275 - accuracy: 0.9965\n",
      "Epoch 282/400\n",
      "18/18 [==============================] - 0s 2ms/step - loss: 0.0273 - accuracy: 0.9965\n",
      "Epoch 283/400\n",
      "18/18 [==============================] - 0s 2ms/step - loss: 0.0273 - accuracy: 0.9965\n",
      "Epoch 284/400\n",
      "18/18 [==============================] - 0s 2ms/step - loss: 0.0272 - accuracy: 0.9965\n",
      "Epoch 285/400\n",
      "18/18 [==============================] - 0s 2ms/step - loss: 0.0271 - accuracy: 0.9965\n",
      "Epoch 286/400\n",
      "18/18 [==============================] - 0s 2ms/step - loss: 0.0270 - accuracy: 0.9965\n",
      "Epoch 287/400\n",
      "18/18 [==============================] - 0s 2ms/step - loss: 0.0269 - accuracy: 0.9965\n",
      "Epoch 288/400\n",
      "18/18 [==============================] - 0s 2ms/step - loss: 0.0268 - accuracy: 0.9965\n",
      "Epoch 289/400\n",
      "18/18 [==============================] - 0s 2ms/step - loss: 0.0268 - accuracy: 0.9965\n",
      "Epoch 290/400\n",
      "18/18 [==============================] - 0s 2ms/step - loss: 0.0267 - accuracy: 0.9965\n",
      "Epoch 291/400\n",
      "18/18 [==============================] - 0s 2ms/step - loss: 0.0266 - accuracy: 0.9965\n",
      "Epoch 292/400\n",
      "18/18 [==============================] - 0s 2ms/step - loss: 0.0265 - accuracy: 0.9965\n",
      "Epoch 293/400\n",
      "18/18 [==============================] - 0s 2ms/step - loss: 0.0265 - accuracy: 0.9965\n",
      "Epoch 294/400\n",
      "18/18 [==============================] - 0s 3ms/step - loss: 0.0264 - accuracy: 0.9965\n",
      "Epoch 295/400\n",
      "18/18 [==============================] - 0s 2ms/step - loss: 0.0263 - accuracy: 0.9965\n",
      "Epoch 296/400\n",
      "18/18 [==============================] - 0s 2ms/step - loss: 0.0262 - accuracy: 0.9965\n",
      "Epoch 297/400\n",
      "18/18 [==============================] - 0s 2ms/step - loss: 0.0261 - accuracy: 0.9965\n",
      "Epoch 298/400\n",
      "18/18 [==============================] - 0s 2ms/step - loss: 0.0260 - accuracy: 0.9965\n",
      "Epoch 299/400\n",
      "18/18 [==============================] - 0s 2ms/step - loss: 0.0260 - accuracy: 0.9965\n",
      "Epoch 300/400\n",
      "18/18 [==============================] - 0s 2ms/step - loss: 0.0259 - accuracy: 0.9965\n",
      "Epoch 301/400\n",
      "18/18 [==============================] - 0s 2ms/step - loss: 0.0258 - accuracy: 0.9965\n",
      "Epoch 302/400\n",
      "18/18 [==============================] - 0s 2ms/step - loss: 0.0257 - accuracy: 0.9965\n",
      "Epoch 303/400\n",
      "18/18 [==============================] - 0s 2ms/step - loss: 0.0256 - accuracy: 0.9965\n",
      "Epoch 304/400\n",
      "18/18 [==============================] - 0s 2ms/step - loss: 0.0256 - accuracy: 0.9965\n",
      "Epoch 305/400\n",
      "18/18 [==============================] - 0s 2ms/step - loss: 0.0255 - accuracy: 0.9965\n",
      "Epoch 306/400\n",
      "18/18 [==============================] - 0s 2ms/step - loss: 0.0254 - accuracy: 0.9965\n",
      "Epoch 307/400\n",
      "18/18 [==============================] - 0s 2ms/step - loss: 0.0253 - accuracy: 0.9965\n",
      "Epoch 308/400\n",
      "18/18 [==============================] - 0s 2ms/step - loss: 0.0253 - accuracy: 0.9965\n",
      "Epoch 309/400\n",
      "18/18 [==============================] - 0s 2ms/step - loss: 0.0252 - accuracy: 0.9965\n",
      "Epoch 310/400\n",
      "18/18 [==============================] - 0s 2ms/step - loss: 0.0251 - accuracy: 0.9965\n",
      "Epoch 311/400\n",
      "18/18 [==============================] - 0s 2ms/step - loss: 0.0250 - accuracy: 0.9965\n",
      "Epoch 312/400\n",
      "18/18 [==============================] - 0s 2ms/step - loss: 0.0250 - accuracy: 0.9965\n",
      "Epoch 313/400\n",
      "18/18 [==============================] - 0s 2ms/step - loss: 0.0249 - accuracy: 0.9965\n",
      "Epoch 314/400\n",
      "18/18 [==============================] - 0s 2ms/step - loss: 0.0248 - accuracy: 0.9965\n",
      "Epoch 315/400\n",
      "18/18 [==============================] - 0s 2ms/step - loss: 0.0248 - accuracy: 0.9965\n",
      "Epoch 316/400\n",
      "18/18 [==============================] - 0s 2ms/step - loss: 0.0247 - accuracy: 0.9965\n",
      "Epoch 317/400\n",
      "18/18 [==============================] - 0s 2ms/step - loss: 0.0246 - accuracy: 0.9965\n",
      "Epoch 318/400\n",
      "18/18 [==============================] - 0s 2ms/step - loss: 0.0245 - accuracy: 0.9965\n",
      "Epoch 319/400\n",
      "18/18 [==============================] - 0s 2ms/step - loss: 0.0245 - accuracy: 0.9965\n",
      "Epoch 320/400\n",
      "18/18 [==============================] - 0s 2ms/step - loss: 0.0244 - accuracy: 0.9965\n",
      "Epoch 321/400\n",
      "18/18 [==============================] - 0s 2ms/step - loss: 0.0243 - accuracy: 0.9965\n",
      "Epoch 322/400\n",
      "18/18 [==============================] - 0s 2ms/step - loss: 0.0243 - accuracy: 0.9965\n",
      "Epoch 323/400\n",
      "18/18 [==============================] - 0s 2ms/step - loss: 0.0242 - accuracy: 0.9965\n",
      "Epoch 324/400\n",
      "18/18 [==============================] - 0s 2ms/step - loss: 0.0241 - accuracy: 0.9965\n",
      "Epoch 325/400\n",
      "18/18 [==============================] - 0s 2ms/step - loss: 0.0241 - accuracy: 0.9965\n",
      "Epoch 326/400\n",
      "18/18 [==============================] - 0s 2ms/step - loss: 0.0240 - accuracy: 0.9965\n",
      "Epoch 327/400\n",
      "18/18 [==============================] - 0s 2ms/step - loss: 0.0239 - accuracy: 0.9965\n",
      "Epoch 328/400\n",
      "18/18 [==============================] - 0s 2ms/step - loss: 0.0239 - accuracy: 0.9965\n",
      "Epoch 329/400\n",
      "18/18 [==============================] - 0s 2ms/step - loss: 0.0238 - accuracy: 0.9965\n",
      "Epoch 330/400\n",
      "18/18 [==============================] - 0s 2ms/step - loss: 0.0237 - accuracy: 0.9965\n",
      "Epoch 331/400\n",
      "18/18 [==============================] - 0s 2ms/step - loss: 0.0237 - accuracy: 0.9965\n",
      "Epoch 332/400\n",
      "18/18 [==============================] - 0s 2ms/step - loss: 0.0236 - accuracy: 0.9965\n",
      "Epoch 333/400\n",
      "18/18 [==============================] - 0s 2ms/step - loss: 0.0235 - accuracy: 0.9965\n",
      "Epoch 334/400\n",
      "18/18 [==============================] - 0s 2ms/step - loss: 0.0234 - accuracy: 0.9965\n",
      "Epoch 335/400\n",
      "18/18 [==============================] - 0s 2ms/step - loss: 0.0234 - accuracy: 0.9965\n",
      "Epoch 336/400\n",
      "18/18 [==============================] - 0s 2ms/step - loss: 0.0233 - accuracy: 0.9965\n",
      "Epoch 337/400\n",
      "18/18 [==============================] - 0s 2ms/step - loss: 0.0233 - accuracy: 0.9965\n",
      "Epoch 338/400\n",
      "18/18 [==============================] - 0s 2ms/step - loss: 0.0232 - accuracy: 0.9965\n",
      "Epoch 339/400\n",
      "18/18 [==============================] - 0s 2ms/step - loss: 0.0231 - accuracy: 0.9965\n",
      "Epoch 340/400\n",
      "18/18 [==============================] - 0s 2ms/step - loss: 0.0231 - accuracy: 0.9965\n",
      "Epoch 341/400\n",
      "18/18 [==============================] - 0s 2ms/step - loss: 0.0230 - accuracy: 0.9965\n",
      "Epoch 342/400\n",
      "18/18 [==============================] - 0s 2ms/step - loss: 0.0229 - accuracy: 0.9965\n",
      "Epoch 343/400\n",
      "18/18 [==============================] - 0s 2ms/step - loss: 0.0229 - accuracy: 0.9965\n",
      "Epoch 344/400\n",
      "18/18 [==============================] - 0s 2ms/step - loss: 0.0228 - accuracy: 0.9965\n",
      "Epoch 345/400\n",
      "18/18 [==============================] - 0s 2ms/step - loss: 0.0227 - accuracy: 0.9965\n",
      "Epoch 346/400\n",
      "18/18 [==============================] - 0s 2ms/step - loss: 0.0227 - accuracy: 0.9965\n",
      "Epoch 347/400\n",
      "18/18 [==============================] - 0s 2ms/step - loss: 0.0226 - accuracy: 0.9965\n",
      "Epoch 348/400\n",
      "18/18 [==============================] - 0s 2ms/step - loss: 0.0226 - accuracy: 0.9965\n",
      "Epoch 349/400\n",
      "18/18 [==============================] - 0s 2ms/step - loss: 0.0225 - accuracy: 0.9965\n",
      "Epoch 350/400\n",
      "18/18 [==============================] - 0s 2ms/step - loss: 0.0224 - accuracy: 0.9965\n",
      "Epoch 351/400\n",
      "18/18 [==============================] - 0s 2ms/step - loss: 0.0224 - accuracy: 0.9965\n",
      "Epoch 352/400\n",
      "18/18 [==============================] - 0s 2ms/step - loss: 0.0223 - accuracy: 0.9965\n",
      "Epoch 353/400\n",
      "18/18 [==============================] - 0s 2ms/step - loss: 0.0223 - accuracy: 0.9965\n",
      "Epoch 354/400\n",
      "18/18 [==============================] - 0s 2ms/step - loss: 0.0222 - accuracy: 0.9965\n",
      "Epoch 355/400\n",
      "18/18 [==============================] - 0s 2ms/step - loss: 0.0221 - accuracy: 0.9965\n",
      "Epoch 356/400\n",
      "18/18 [==============================] - 0s 2ms/step - loss: 0.0221 - accuracy: 0.9965\n",
      "Epoch 357/400\n",
      "18/18 [==============================] - 0s 2ms/step - loss: 0.0220 - accuracy: 0.9965\n",
      "Epoch 358/400\n",
      "18/18 [==============================] - 0s 2ms/step - loss: 0.0220 - accuracy: 0.9965\n",
      "Epoch 359/400\n",
      "18/18 [==============================] - 0s 2ms/step - loss: 0.0219 - accuracy: 0.9965\n",
      "Epoch 360/400\n",
      "18/18 [==============================] - 0s 2ms/step - loss: 0.0218 - accuracy: 0.9965\n",
      "Epoch 361/400\n",
      "18/18 [==============================] - 0s 2ms/step - loss: 0.0218 - accuracy: 0.9965\n",
      "Epoch 362/400\n",
      "18/18 [==============================] - 0s 2ms/step - loss: 0.0217 - accuracy: 0.9965\n",
      "Epoch 363/400\n",
      "18/18 [==============================] - 0s 2ms/step - loss: 0.0217 - accuracy: 0.9965\n",
      "Epoch 364/400\n",
      "18/18 [==============================] - 0s 2ms/step - loss: 0.0216 - accuracy: 0.9965\n",
      "Epoch 365/400\n",
      "18/18 [==============================] - 0s 2ms/step - loss: 0.0216 - accuracy: 0.9965\n",
      "Epoch 366/400\n",
      "18/18 [==============================] - 0s 2ms/step - loss: 0.0215 - accuracy: 0.9965\n",
      "Epoch 367/400\n",
      "18/18 [==============================] - 0s 2ms/step - loss: 0.0214 - accuracy: 0.9965\n",
      "Epoch 368/400\n",
      "18/18 [==============================] - 0s 2ms/step - loss: 0.0214 - accuracy: 0.9965\n",
      "Epoch 369/400\n",
      "18/18 [==============================] - 0s 2ms/step - loss: 0.0213 - accuracy: 0.9965\n",
      "Epoch 370/400\n",
      "18/18 [==============================] - 0s 2ms/step - loss: 0.0213 - accuracy: 0.9965\n",
      "Epoch 371/400\n",
      "18/18 [==============================] - 0s 2ms/step - loss: 0.0212 - accuracy: 0.9965\n",
      "Epoch 372/400\n",
      "18/18 [==============================] - 0s 2ms/step - loss: 0.0212 - accuracy: 0.9965\n",
      "Epoch 373/400\n",
      "18/18 [==============================] - 0s 2ms/step - loss: 0.0211 - accuracy: 0.9965\n",
      "Epoch 374/400\n",
      "18/18 [==============================] - 0s 3ms/step - loss: 0.0211 - accuracy: 0.9965\n",
      "Epoch 375/400\n",
      "18/18 [==============================] - 0s 2ms/step - loss: 0.0210 - accuracy: 0.9965\n",
      "Epoch 376/400\n",
      "18/18 [==============================] - 0s 2ms/step - loss: 0.0209 - accuracy: 0.9965\n",
      "Epoch 377/400\n",
      "18/18 [==============================] - 0s 2ms/step - loss: 0.0209 - accuracy: 0.9965\n",
      "Epoch 378/400\n",
      "18/18 [==============================] - 0s 2ms/step - loss: 0.0208 - accuracy: 0.9965\n",
      "Epoch 379/400\n",
      "18/18 [==============================] - 0s 2ms/step - loss: 0.0208 - accuracy: 0.9965\n",
      "Epoch 380/400\n",
      "18/18 [==============================] - 0s 2ms/step - loss: 0.0207 - accuracy: 0.9965\n",
      "Epoch 381/400\n",
      "18/18 [==============================] - 0s 2ms/step - loss: 0.0207 - accuracy: 0.9982\n",
      "Epoch 382/400\n",
      "18/18 [==============================] - 0s 2ms/step - loss: 0.0206 - accuracy: 0.9965\n",
      "Epoch 383/400\n",
      "18/18 [==============================] - 0s 2ms/step - loss: 0.0206 - accuracy: 0.9965\n",
      "Epoch 384/400\n",
      "18/18 [==============================] - 0s 2ms/step - loss: 0.0205 - accuracy: 0.9965\n",
      "Epoch 385/400\n",
      "18/18 [==============================] - 0s 2ms/step - loss: 0.0205 - accuracy: 1.0000\n",
      "Epoch 386/400\n",
      "18/18 [==============================] - 0s 2ms/step - loss: 0.0204 - accuracy: 0.9982\n",
      "Epoch 387/400\n",
      "18/18 [==============================] - 0s 2ms/step - loss: 0.0204 - accuracy: 0.9982\n",
      "Epoch 388/400\n",
      "18/18 [==============================] - 0s 2ms/step - loss: 0.0203 - accuracy: 0.9982\n",
      "Epoch 389/400\n",
      "18/18 [==============================] - 0s 2ms/step - loss: 0.0203 - accuracy: 1.0000\n",
      "Epoch 390/400\n",
      "18/18 [==============================] - 0s 2ms/step - loss: 0.0202 - accuracy: 1.0000\n",
      "Epoch 391/400\n",
      "18/18 [==============================] - 0s 2ms/step - loss: 0.0202 - accuracy: 1.0000\n",
      "Epoch 392/400\n",
      "18/18 [==============================] - 0s 2ms/step - loss: 0.0201 - accuracy: 1.0000\n",
      "Epoch 393/400\n",
      "18/18 [==============================] - 0s 2ms/step - loss: 0.0201 - accuracy: 1.0000\n",
      "Epoch 394/400\n",
      "18/18 [==============================] - 0s 2ms/step - loss: 0.0200 - accuracy: 1.0000\n",
      "Epoch 395/400\n",
      "18/18 [==============================] - 0s 2ms/step - loss: 0.0200 - accuracy: 0.9982\n",
      "Epoch 396/400\n",
      "18/18 [==============================] - 0s 2ms/step - loss: 0.0199 - accuracy: 1.0000\n",
      "Epoch 397/400\n",
      "18/18 [==============================] - 0s 2ms/step - loss: 0.0199 - accuracy: 1.0000\n",
      "Epoch 398/400\n",
      "18/18 [==============================] - 0s 2ms/step - loss: 0.0198 - accuracy: 1.0000\n",
      "Epoch 399/400\n",
      "18/18 [==============================] - 0s 2ms/step - loss: 0.0198 - accuracy: 1.0000\n",
      "Epoch 400/400\n",
      "18/18 [==============================] - 0s 2ms/step - loss: 0.0197 - accuracy: 1.0000\n"
     ]
    },
    {
     "data": {
      "text/plain": [
       "<keras.callbacks.History at 0x7f77cb2bf950>"
      ]
     },
     "execution_count": 17,
     "metadata": {},
     "output_type": "execute_result"
    }
   ],
   "source": [
    "model.fit(train_data, train_labels,epochs = 400)"
   ]
  },
  {
   "cell_type": "code",
   "execution_count": 18,
   "id": "95db5192",
   "metadata": {
    "execution": {
     "iopub.execute_input": "2022-04-27T03:11:00.015676Z",
     "iopub.status.busy": "2022-04-27T03:11:00.014909Z",
     "iopub.status.idle": "2022-04-27T03:11:00.256704Z",
     "shell.execute_reply": "2022-04-27T03:11:00.255380Z"
    },
    "papermill": {
     "duration": 0.617705,
     "end_time": "2022-04-27T03:11:00.258821",
     "exception": false,
     "start_time": "2022-04-27T03:10:59.641116",
     "status": "completed"
    },
    "tags": []
   },
   "outputs": [
    {
     "name": "stdout",
     "output_type": "stream",
     "text": [
      "5/5 [==============================] - 0s 2ms/step - loss: 0.0344 - accuracy: 0.9801\n",
      "Our test accuracy was 0.9801324605941772\n"
     ]
    }
   ],
   "source": [
    "loss_value, accuracy_value = model.evaluate(test_data, test_labels)\n",
    "print(f'Our test accuracy was {accuracy_value}')"
   ]
  },
  {
   "cell_type": "markdown",
   "id": "d22bf20d",
   "metadata": {
    "papermill": {
     "duration": 0.374292,
     "end_time": "2022-04-27T03:11:01.003107",
     "exception": false,
     "start_time": "2022-04-27T03:11:00.628815",
     "status": "completed"
    },
    "tags": []
   },
   "source": [
    "###Now to predict and check the predictions"
   ]
  },
  {
   "cell_type": "code",
   "execution_count": 19,
   "id": "81058549",
   "metadata": {
    "execution": {
     "iopub.execute_input": "2022-04-27T03:11:01.741095Z",
     "iopub.status.busy": "2022-04-27T03:11:01.740450Z",
     "iopub.status.idle": "2022-04-27T03:11:01.746943Z",
     "shell.execute_reply": "2022-04-27T03:11:01.746343Z"
    },
    "papermill": {
     "duration": 0.378025,
     "end_time": "2022-04-27T03:11:01.748813",
     "exception": false,
     "start_time": "2022-04-27T03:11:01.370788",
     "status": "completed"
    },
    "tags": []
   },
   "outputs": [],
   "source": [
    "def predictor(test_data, test_labels, index):\n",
    "    prediction = model.predict(test_data)\n",
    "    \n",
    "    if np.argmax(prediction[index]) == test_labels[index]:\n",
    "        print(f'Correctly predicted as:\\\"{test_labels[index]}\\\"')\n",
    "    else:\n",
    "        print(f'Wrongly Predicted as: \\\"{prediction[index]}\\\" it was \\\"{test+labels[index]}\\\"')\n",
    "        return(prediction)"
   ]
  },
  {
   "cell_type": "code",
   "execution_count": 20,
   "id": "6d769479",
   "metadata": {
    "execution": {
     "iopub.execute_input": "2022-04-27T03:11:02.494157Z",
     "iopub.status.busy": "2022-04-27T03:11:02.493409Z",
     "iopub.status.idle": "2022-04-27T03:11:02.506705Z",
     "shell.execute_reply": "2022-04-27T03:11:02.506012Z"
    },
    "papermill": {
     "duration": 0.384075,
     "end_time": "2022-04-27T03:11:02.508977",
     "exception": false,
     "start_time": "2022-04-27T03:11:02.124902",
     "status": "completed"
    },
    "tags": []
   },
   "outputs": [],
   "source": [
    "df1 = pd.read_csv(\"../input/pokemon/pokemon_alopez247.csv\")"
   ]
  },
  {
   "cell_type": "code",
   "execution_count": 21,
   "id": "cb002e24",
   "metadata": {
    "execution": {
     "iopub.execute_input": "2022-04-27T03:11:03.250713Z",
     "iopub.status.busy": "2022-04-27T03:11:03.250176Z",
     "iopub.status.idle": "2022-04-27T03:11:03.392427Z",
     "shell.execute_reply": "2022-04-27T03:11:03.391768Z"
    },
    "papermill": {
     "duration": 0.515234,
     "end_time": "2022-04-27T03:11:03.394966",
     "exception": false,
     "start_time": "2022-04-27T03:11:02.879732",
     "status": "completed"
    },
    "tags": []
   },
   "outputs": [
    {
     "name": "stdout",
     "output_type": "stream",
     "text": [
      "Mewtwo\n",
      "1.0\n",
      "Correctly predicted as:\"1\"\n"
     ]
    }
   ],
   "source": [
    "index = 149 \n",
    "print(df1.loc[index, 'Name'])\n",
    "print(df.loc[index, 'isLegendary'])\n",
    "predictor(test_data, test_labels, index)"
   ]
  }
 ],
 "metadata": {
  "kernelspec": {
   "display_name": "Python 3",
   "language": "python",
   "name": "python3"
  },
  "language_info": {
   "codemirror_mode": {
    "name": "ipython",
    "version": 3
   },
   "file_extension": ".py",
   "mimetype": "text/x-python",
   "name": "python",
   "nbconvert_exporter": "python",
   "pygments_lexer": "ipython3",
   "version": "3.7.12"
  },
  "papermill": {
   "default_parameters": {},
   "duration": 84.71176,
   "end_time": "2022-04-27T03:11:06.769153",
   "environment_variables": {},
   "exception": null,
   "input_path": "__notebook__.ipynb",
   "output_path": "__notebook__.ipynb",
   "parameters": {},
   "start_time": "2022-04-27T03:09:42.057393",
   "version": "2.3.4"
  }
 },
 "nbformat": 4,
 "nbformat_minor": 5
}
